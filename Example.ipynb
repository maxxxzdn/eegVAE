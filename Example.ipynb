{
 "cells": [
  {
   "cell_type": "code",
   "execution_count": 36,
   "metadata": {},
   "outputs": [],
   "source": [
    "import torch\n",
    "import random\n",
    "import numpy as np\n",
    "import matplotlib.pyplot as plt\n",
    "from scipy.signal import coherence, csd\n",
    "# I use torch geometric data objects to handle graph data\n",
    "# See https://pytorch-geometric.readthedocs.io/en/latest/notes/installation.html for installation details\n",
    "from torch_geometric.data import Data, DataLoader"
   ]
  },
  {
   "cell_type": "code",
   "execution_count": 37,
   "metadata": {},
   "outputs": [],
   "source": [
    "import torch_geometric"
   ]
  },
  {
   "cell_type": "code",
   "execution_count": 38,
   "metadata": {},
   "outputs": [
    {
     "data": {
      "text/plain": [
       "'2.0.1'"
      ]
     },
     "execution_count": 38,
     "metadata": {},
     "output_type": "execute_result"
    }
   ],
   "source": [
    "torch_geometric.__version__"
   ]
  },
  {
   "cell_type": "markdown",
   "metadata": {},
   "source": [
    "# Data set creation"
   ]
  },
  {
   "cell_type": "markdown",
   "metadata": {},
   "source": [
    "### Creating raw data set"
   ]
  },
  {
   "cell_type": "code",
   "execution_count": 39,
   "metadata": {},
   "outputs": [],
   "source": [
    "# We are given with a data set consisting of raw EEG data with N channels and D ms duration\n",
    "N = 32\n",
    "D = 500\n",
    "# There are 'n_patients = [n_hc, n_sz, n_avh]' people in a data set\n",
    "# HC = healthy people, SZ = schizophrenia, AVH = schizophrenia + hallucinations\n",
    "n_hc = 30\n",
    "n_sz = 12\n",
    "n_avh = 10\n",
    "n_patients = [n_hc, n_sz, n_avh]\n",
    "# Each patient has multiple recordings\n",
    "n_exp = 30\n",
    "# Let's generate raw data\n",
    "# EEG data can be significantly out of [-1,1] => we will need normalization\n",
    "create_dataset = lambda n,e: 19*np.random.randn(n, e, N, D)\n",
    "dataset_raw = [create_dataset(n, n_exp) for n in n_patients]"
   ]
  },
  {
   "cell_type": "markdown",
   "metadata": {},
   "source": [
    "### Labeling"
   ]
  },
  {
   "cell_type": "code",
   "execution_count": 40,
   "metadata": {},
   "outputs": [],
   "source": [
    "# Assume 1 data point corresponds to 1 ms\n",
    "# Assume signal (e.g. auditory signal) is given at t = 250\n",
    "# Hence, we can split each signal into 2 parts: t = [0, 249] - resting, t = [250, 499] - listening\n",
    "\n",
    "# We define disease-related labels as 'is_schizophrenia' & 'has_hallucinations'\n",
    "# It corresponds to y_hc = [0,0], y_sz = [1,0], y_avh = [1,1]"
   ]
  },
  {
   "cell_type": "markdown",
   "metadata": {},
   "source": [
    "### Calculating functional connectivity matrix"
   ]
  },
  {
   "cell_type": "code",
   "execution_count": 41,
   "metadata": {},
   "outputs": [
    {
     "data": {
      "image/png": "[encoded data removed]",
      "text/plain": [
       "<Figure size 432x288 with 1 Axes>"
      ]
     },
     "metadata": {
      "needs_background": "light"
     },
     "output_type": "display_data"
    }
   ],
   "source": [
    "# (Optional) function to map [-1,1] -> [-0.1, 1] \n",
    "# It drastically decreases resolution for [-1,0.5] range\n",
    "# Motivation: we are interested only in highly connected links\n",
    "f = lambda t: -0.1 + 0.00909091*121**t\n",
    "plt.plot(np.arange(-1,1,0.1), f(np.arange(-1,1,0.1)))\n",
    "plt.xlabel('Original FC score')\n",
    "plt.ylabel('Updated FC score')\n",
    "plt.title('Function $f$ to highlight strong connections');"
   ]
  },
  {
   "cell_type": "code",
   "execution_count": 42,
   "metadata": {},
   "outputs": [],
   "source": [
    "def get_coh(x, fs):\n",
    "    x = torch.tensor(x) # to do repeat operations\n",
    "    N, D = x.shape\n",
    "    pxy = csd(torch.repeat_interleave(x, repeats = N, dim = 0), x.repeat(N,1), D)[-1].sum(-1).reshape(N,N)\n",
    "    pxx = np.repeat(csd(x, x, fs)[-1].sum(-1), N).reshape(N,N)\n",
    "    pyy = np.repeat(csd(x, x, fs)[-1].sum(-1), N).reshape(N,N).T\n",
    "    coh = pxy/np.sqrt(pxx*pyy)\n",
    "    return coh\n",
    "\n",
    "def get_plv(x):\n",
    "    N, D = x.shape\n",
    "    phi_x = torch.repeat_interleave(torch.tensor(np.angle(np.fft.fft(x))), repeats = N, dim = 0)\n",
    "    phi_y = torch.tensor(np.angle(np.fft.fft(x))).repeat(N,1)\n",
    "    return (np.abs(np.exp(-1j*(phi_x-phi_y)).sum(-1))/D).reshape(N,N)"
   ]
  },
  {
   "cell_type": "code",
   "execution_count": 43,
   "metadata": {},
   "outputs": [],
   "source": [
    "def get_fc(eeg_data, fs = None, method = 'corr', EPS = 1e-3):\n",
    "    \"\"\"\n",
    "    Input: \n",
    "        eeg_data (np.array): raw EEG data with N channels and D length\n",
    "        fs (float): sampling frequency\n",
    "        method (str): 'lps', 'rcoh', 'plv' or 'corr' - Lagged Phase Synchronization, Real(Coherence), Phase Locking Value, Pearson correlation\n",
    "        EPS (float): constant for numerical stability \n",
    "    Output:\n",
    "        functional connectivity matrix\n",
    "    \"\"\"\n",
    "    N, D = eeg_data.shape\n",
    "    if method == 'corr':\n",
    "        fc_adj = np.corrcoef(eeg_data)\n",
    "        fc_adj = f(fc_adj) # Highligting strong connections\n",
    "        fc_adj = fc_adj - np.eye(N,N) #Remove self-self connections\n",
    "    elif method == 'plv':\n",
    "        fc_adj = get_plv(eeg_data)\n",
    "        #fc_adj = f(fc_adj) # Highligting strong connections\n",
    "        fc_adj = fc_adj - np.eye(N,N) #Remove self-self connections\n",
    "    else:\n",
    "        coh = get_coh(eeg_data, fs)\n",
    "        if method == 'rcoh':\n",
    "            fc_adj = np.real(coh)\n",
    "            fc_adj = f(fc_adj) # Highligting strong connections\n",
    "            fc_adj = fc_adj - np.eye(N,N) #Remove self-self connections\n",
    "        elif method == 'lps':\n",
    "            fc_adj = np.abs(np.imag(coh))/np.sqrt(1-np.real(coh)**2 + EPS)\n",
    "        else:\n",
    "            raise NotImplementedError\n",
    "    return fc_adj"
   ]
  },
  {
   "cell_type": "markdown",
   "metadata": {},
   "source": [
    "### Creating data sets"
   ]
  },
  {
   "cell_type": "code",
   "execution_count": 44,
   "metadata": {},
   "outputs": [],
   "source": [
    "hc_dataset_raw, sz_dataset_raw, avh_dataset_raw = dataset_raw # given raw data\n",
    "hc_dataset, sz_dataset, avh_dataset = [], [], [] # data sets to train a model"
   ]
  },
  {
   "cell_type": "code",
   "execution_count": 45,
   "metadata": {},
   "outputs": [],
   "source": [
    "for patient_data in hc_dataset_raw:\n",
    "    for experiment_data in patient_data:\n",
    "        experiment_data = (experiment_data + 100)/200 # [-100,100] -> [-1,1] minmax normalization\n",
    "        signal_0 = experiment_data[:,:250] # resting part\n",
    "        signal_1 = experiment_data[:,250:] # listening part\n",
    "        \n",
    "        adj_0 = get_fc(signal_0) \n",
    "        adj_1 = get_fc(signal_1)\n",
    "        \n",
    "        y_0 = [0,0,0] # resting, no schizophrenia, no hallucinations\n",
    "        y_1 = [1,0,0] # listening, no schizophrenia, no hallucinations\n",
    "        \n",
    "        # data must have following components:\n",
    "        #     x (torch.float.Tensor) : raw EEG signal of shape [N, D]\n",
    "        #     adj (torch.float.Tensor) : FC matrix of shape [1, N, N]\n",
    "        #     y (torch.long.Tensor) : binary label vector of shape [1, 3] \n",
    "        data_0 = Data(x = torch.tensor(signal_0).float(), adj = torch.tensor(adj_0).float().unsqueeze(0), y = torch.tensor(y_0).float().unsqueeze(0))\n",
    "        data_1 = Data(x = torch.tensor(signal_1).float(), adj = torch.tensor(adj_1).float().unsqueeze(0), y = torch.tensor(y_1).float().unsqueeze(0))\n",
    "        \n",
    "        hc_dataset.append(data_0)\n",
    "        hc_dataset.append(data_1)\n",
    "        \n",
    "# Repeat for SZ patients        \n",
    "for patient_data in sz_dataset_raw:\n",
    "    for experiment_data in patient_data:\n",
    "        experiment_data = (experiment_data + 100)/200 # [-100,100] -> [-1,1] minmax normalization\n",
    "        signal_0 = experiment_data[:,:250] # resting part\n",
    "        signal_1 = experiment_data[:,250:] # listening part\n",
    "        \n",
    "        adj_0 = get_fc(signal_0) \n",
    "        adj_1 = get_fc(signal_1)\n",
    "        \n",
    "        y_0 = [0,1,0] # resting, schizophrenia, no hallucinations\n",
    "        y_1 = [1,1,0] # listening, schizophrenia, no hallucinations\n",
    "        \n",
    "        # data must have following components:\n",
    "        #     x (torch.float.Tensor) : raw EEG signal of shape [N, D]\n",
    "        #     adj (torch.float.Tensor) : FC matrix of shape [1, N, N]\n",
    "        #     y (torch.long.Tensor) : binary label vector of shape [1, 3] \n",
    "        data_0 = Data(x = torch.tensor(signal_0).float(), adj = torch.tensor(adj_0).float().unsqueeze(0), y = torch.tensor(y_0).float().unsqueeze(0))\n",
    "        data_1 = Data(x = torch.tensor(signal_1).float(), adj = torch.tensor(adj_1).float().unsqueeze(0), y = torch.tensor(y_1).float().unsqueeze(0))\n",
    "        \n",
    "        sz_dataset.append(data_0)\n",
    "        sz_dataset.append(data_1)\n",
    "        \n",
    "# Repeat for AVH patients        \n",
    "for patient_data in sz_dataset_raw:\n",
    "    for experiment_data in patient_data:\n",
    "        experiment_data = (experiment_data + 100)/200 # [-100,100] -> [-1,1] minmax normalization\n",
    "        signal_0 = experiment_data[:,:250] # resting part\n",
    "        signal_1 = experiment_data[:,250:] # listening part\n",
    "        \n",
    "        adj_0 = get_fc(signal_0) \n",
    "        adj_1 = get_fc(signal_1)\n",
    "        \n",
    "        y_0 = [0,1,1] # resting, schizophrenia, hallucinations\n",
    "        y_1 = [1,1,1] # listening, schizophrenia, hallucinations\n",
    "        \n",
    "        # data must have following components:\n",
    "        #     x (torch.float.Tensor) : raw EEG signal of shape [N, D]\n",
    "        #     adj (torch.float.Tensor) : FC matrix of shape [1, N, N]\n",
    "        #     y (torch.long.Tensor) : binary label vector of shape [1, 3] \n",
    "        data_0 = Data(x = torch.tensor(signal_0).float(), adj = torch.tensor(adj_0).float().unsqueeze(0), y = torch.tensor(y_0).float().unsqueeze(0))\n",
    "        data_1 = Data(x = torch.tensor(signal_1).float(), adj = torch.tensor(adj_1).float().unsqueeze(0), y = torch.tensor(y_1).float().unsqueeze(0))\n",
    "        \n",
    "        avh_dataset.append(data_0)\n",
    "        avh_dataset.append(data_1)"
   ]
  },
  {
   "cell_type": "code",
   "execution_count": 46,
   "metadata": {},
   "outputs": [],
   "source": [
    "# Random permuation of data (in-place)\n",
    "random.shuffle(hc_dataset)\n",
    "random.shuffle(sz_dataset)\n",
    "random.shuffle(avh_dataset)"
   ]
  },
  {
   "cell_type": "markdown",
   "metadata": {},
   "source": [
    "### Forming the final data set"
   ]
  },
  {
   "cell_type": "code",
   "execution_count": 47,
   "metadata": {},
   "outputs": [],
   "source": [
    "# there are more healthy people\n",
    "# => for equal representation take only a subset from HC and SZ data sets\n",
    "hc_dataset = hc_dataset[:len(avh_dataset)]\n",
    "sz_dataset = sz_dataset[:len(avh_dataset)]"
   ]
  },
  {
   "cell_type": "code",
   "execution_count": 48,
   "metadata": {},
   "outputs": [],
   "source": [
    "dataset = hc_dataset + sz_dataset + avh_dataset"
   ]
  },
  {
   "cell_type": "code",
   "execution_count": 49,
   "metadata": {},
   "outputs": [],
   "source": [
    "#torch.save(dataset, 'dataset')"
   ]
  },
  {
   "cell_type": "code",
   "execution_count": 50,
   "metadata": {},
   "outputs": [
    {
     "data": {
      "image/png": "[encoded data removed]",
      "text/plain": [
       "<Figure size 720x720 with 3 Axes>"
      ]
     },
     "metadata": {
      "needs_background": "light"
     },
     "output_type": "display_data"
    }
   ],
   "source": [
    "# Let us visualize both EEG data and FC data of a randomly taken data point\n",
    "data = random.choice(dataset)\n",
    "\n",
    "fig, (ax1, ax2) = plt.subplots(1,2, figsize = [10,10])\n",
    "\n",
    "ax1.imshow(data.x, interpolation = 'nearest', aspect = 7.)\n",
    "ax1.set_xlabel('Time, ms')\n",
    "ax1.set_ylabel('EEG channel')\n",
    "ax1.set_title('EEG data')\n",
    "\n",
    "im = ax2.imshow(data.adj[0])\n",
    "ax2.set_xlabel('EEG channel')\n",
    "ax2.set_ylabel('EEG channel')\n",
    "ax2.set_title('Adjacency matrix')\n",
    "fig.colorbar(im, fraction = 0.046);"
   ]
  },
  {
   "cell_type": "markdown",
   "metadata": {},
   "source": [
    "### Train/test split"
   ]
  },
  {
   "cell_type": "code",
   "execution_count": 51,
   "metadata": {},
   "outputs": [
    {
     "name": "stdout",
     "output_type": "stream",
     "text": [
      "Number of training graphs: 1728\n",
      "Number of test graphs: 432\n"
     ]
    },
    {
     "name": "stderr",
     "output_type": "stream",
     "text": [
      "/home/zhdano82/.conda/envs/geometric/lib/python3.8/site-packages/torch_geometric/deprecation.py:13: UserWarning: 'data.DataLoader' is deprecated, use 'loader.DataLoader' instead\n",
      "  warnings.warn(out)\n"
     ]
    }
   ],
   "source": [
    "random.shuffle(dataset)\n",
    "\n",
    "train_dataset = dataset[:8*len(dataset)//10] # First 80% of data\n",
    "test_dataset = dataset[8*len(dataset)//10:] # Last 20% of data\n",
    "\n",
    "print(f'Number of training graphs: {len(train_dataset)}')\n",
    "print(f'Number of test graphs: {len(test_dataset)}')\n",
    "\n",
    "train_loader = DataLoader(train_dataset, batch_size=100, shuffle=True, drop_last=True)\n",
    "test_loader = DataLoader(test_dataset, batch_size=100, shuffle=True, drop_last=True)"
   ]
  },
  {
   "cell_type": "markdown",
   "metadata": {},
   "source": [
    "# Training a model"
   ]
  },
  {
   "cell_type": "code",
   "execution_count": 52,
   "metadata": {},
   "outputs": [],
   "source": [
    "from model import ccVAE\n",
    "from utils import train"
   ]
  },
  {
   "cell_type": "code",
   "execution_count": 53,
   "metadata": {},
   "outputs": [],
   "source": [
    "# A class containing hyperparameters of a model. Mimics argsparse.\n",
    "class Args():\n",
    "    def __init__(self, z_dim = 10, w_dim = 10):\n",
    "        self.n_nodes = N\n",
    "        self.x_dim = 250\n",
    "        self.n_classes = 3 # len(y)\n",
    "        self.drop_rate = 0.\n",
    "        \n",
    "        self.z_dim = z_dim\n",
    "        self.w_dim = w_dim\n",
    "        \n",
    "        self.elbo_coefs = [1.,2.,10.] # beta_z, beta_w, alpha_classifier (see Thesis, 3.3.2)\n",
    "        self.decoder_w_mode = 'conv'\n",
    "        self.cond_prior_w_mode = 'lookup'\n",
    "        self.cond_prior_z_mode = 'lookup'\n",
    "        \n",
    "        self.use_cuda = 1 if torch.cuda.is_available() else 0"
   ]
  },
  {
   "cell_type": "code",
   "execution_count": 54,
   "metadata": {},
   "outputs": [],
   "source": [
    "device = 'cuda' if torch.cuda.is_available() else 'cpu'"
   ]
  },
  {
   "cell_type": "code",
   "execution_count": 55,
   "metadata": {},
   "outputs": [],
   "source": [
    "# Initialize model\n",
    "args = Args()\n",
    "model = ccVAE(args)\n",
    "if device == 'cuda':\n",
    "    model = model.cuda()"
   ]
  },
  {
   "cell_type": "code",
   "execution_count": 56,
   "metadata": {},
   "outputs": [],
   "source": [
    "optimizer = torch.optim.Adam(model.parameters(), lr=5e-4)"
   ]
  },
  {
   "cell_type": "code",
   "execution_count": 57,
   "metadata": {},
   "outputs": [
    {
     "name": "stdout",
     "output_type": "stream",
     "text": [
      "ELBO 8506.98, Accuracy y: [0.48, 0.68, 0.29] MSE X: 84.42, MSE A: 2.55, KL Z: 180.83, KL W: 5.41, log q(y|X,A): 0.03, \n",
      "Test\n",
      "ELBO 8528.99, Accuracy y: [0.56, 0.61, 0.38] MSE X: 121.01, MSE A: 2.48, KL Z: 184.60, KL W: 5.84, log q(y|X,A): 0.02, \n"
     ]
    }
   ],
   "source": [
    "# Let us train a model now\n",
    "n_epochs = 1\n",
    "for epoch in range(n_epochs):\n",
    "    train(model, optimizer, train_loader, True, device, 1) # training procedure\n",
    "    if epoch % 5 == 0:\n",
    "        train(model, optimizer, test_loader, False, device, 1) # testing procedure"
   ]
  },
  {
   "cell_type": "markdown",
   "metadata": {},
   "source": [
    "## Interpreting latent variables"
   ]
  },
  {
   "cell_type": "code",
   "execution_count": 58,
   "metadata": {},
   "outputs": [],
   "source": [
    "import torch.distributions as dist"
   ]
  },
  {
   "cell_type": "code",
   "execution_count": 59,
   "metadata": {},
   "outputs": [],
   "source": [
    "def var_interv(model, label_values, ind_to_vary, device, n_interventions = 1000):\n",
    "    \"\"\"\n",
    "    Input: \n",
    "        model: trained CGVAE model (CCVAE-AX or CCVAE-A).\n",
    "        label_values (torch.tensor): tensor of shape [1, #labels] with fixed values of labels.\n",
    "        ind_to_vary (int): index of dimensions which is to be intervened upon.\n",
    "        device (str): 'cuda' or 'cpu'.\n",
    "        n_interventions (int): number of interventions to perform.\n",
    "    Output:\n",
    "        N x N matrix where each element is variance of FC value after n_interventions.\n",
    "    \"\"\"\n",
    "    with torch.no_grad():\n",
    "        bs = n_interventions\n",
    "        label_values = label_values.expand(n_interventions, -1).clone()\n",
    "        y_i = torch.randint(2,[n_interventions]) # random binary value\n",
    "        label_values[:, ind_to_vary] = y_i\n",
    "        y = label_values.to(device)\n",
    "        locs_pwc_y, scales_pwc_y = model.cond_prior_w(y)\n",
    "        prior_params_w = (torch.cat([locs_pwc_y, model.zeros_w.expand(bs, -1)], dim=-1), \n",
    "                          torch.cat([scales_pwc_y, model.ones_w.expand(bs, -1)], dim=-1))\n",
    "        pw_y = dist.Normal(*prior_params_w)\n",
    "        w_ = pw_y.sample()\n",
    "        w = pw_y.loc\n",
    "        w[:,ind_to_vary] = w_[:,ind_to_vary]\n",
    "        pa_w = dist.Normal(*model.decoder_w(w))\n",
    "    return pa_w.loc.squeeze().var(0)"
   ]
  },
  {
   "cell_type": "code",
   "execution_count": 60,
   "metadata": {},
   "outputs": [],
   "source": [
    "label_values = torch.tensor([0,0,0]) # default values of labels (fixing dimensions)\n",
    "ind_to_vary = 0 # index of the label which is to be intervened upon\n",
    "n_interventions = 1000"
   ]
  },
  {
   "cell_type": "code",
   "execution_count": 62,
   "metadata": {},
   "outputs": [],
   "source": [
    "var_A = var_interv(model, label_values, ind_to_vary, device).cpu().detach()"
   ]
  },
  {
   "cell_type": "code",
   "execution_count": 63,
   "metadata": {},
   "outputs": [
    {
     "data": {
      "image/png": "[encoded data removed]",
      "text/plain": [
       "<Figure size 432x288 with 2 Axes>"
      ]
     },
     "metadata": {
      "needs_background": "light"
     },
     "output_type": "display_data"
    }
   ],
   "source": [
    "plt.imshow(var_A)\n",
    "plt.colorbar()\n",
    "plt.suptitle('Variance in reconstructions of functional connectivity matrices')\n",
    "plt.title(f'when intervening on {ind_to_vary}-th label')\n",
    "plt.xlabel('EEG channel')\n",
    "plt.ylabel('EEG channel');"
   ]
  },
  {
   "cell_type": "code",
   "execution_count": 64,
   "metadata": {},
   "outputs": [],
   "source": [
    "def highest_connections(var_A, channel_names, n):\n",
    "    \"\"\"\n",
    "    Function to print which connections have the highest variance values\n",
    "    Input:\n",
    "        var_A (torch.tensor): N x N matrix where each element is variance of FC value after n_interventions.\n",
    "        channel_names (numpy.array): array with names of electrodes in the same order as in var_A\n",
    "        n (int): number of connections to print\n",
    "    \"\"\"\n",
    "    print('Connections with highest variance:')\n",
    "    for i,pair in enumerate(list(np.dstack(np.unravel_index(np.argsort(var_A.ravel()), (N, N)))[0,-(n*2):,:])[::-1]):\n",
    "        if i % 2 == 0: # since FC matrices are symmetrical we skip different directions\n",
    "            print('     ' + str(channel_names[pair]) + \n",
    "                  f': {var_A[pair[0], pair[1]].item():.3f}') "
   ]
  },
  {
   "cell_type": "code",
   "execution_count": 65,
   "metadata": {},
   "outputs": [],
   "source": [
    "# For example purpose I initialize EEG channel names with random channels\n",
    "import string\n",
    "random_chars = [random.choice(string.ascii_uppercase + string.digits) for _ in range(N)]\n",
    "channel_names = np.array(random_chars) # substitute with true names when given"
   ]
  },
  {
   "cell_type": "code",
   "execution_count": 66,
   "metadata": {},
   "outputs": [
    {
     "name": "stdout",
     "output_type": "stream",
     "text": [
      "Intervening on 0-th label.\n",
      "Connections with highest variance:\n",
      "     ['X' 'M']: 0.003\n",
      "     ['0' 'M']: 0.002\n",
      "     ['M' '0']: 0.002\n",
      "     ['M' '4']: 0.002\n",
      "     ['X' '0']: 0.002\n",
      "     ['X' '0']: 0.002\n",
      "     ['0' '4']: 0.002\n",
      "     ['4' 'X']: 0.002\n",
      "     ['0' '0']: 0.002\n",
      "     ['X' 'Z']: 0.002\n"
     ]
    }
   ],
   "source": [
    "print(f'Intervening on {ind_to_vary}-th label.')\n",
    "highest_connections(var_A, channel_names, 10)"
   ]
  },
  {
   "cell_type": "markdown",
   "metadata": {},
   "source": [
    "## Testing NLL"
   ]
  },
  {
   "cell_type": "code",
   "execution_count": 67,
   "metadata": {},
   "outputs": [],
   "source": [
    "import itertools"
   ]
  },
  {
   "cell_type": "markdown",
   "metadata": {},
   "source": [
    "### log p(X|Z,A) for each y"
   ]
  },
  {
   "cell_type": "code",
   "execution_count": 69,
   "metadata": {},
   "outputs": [],
   "source": [
    "nll = {}\n",
    "# all possible combinations of labels\n",
    "labels = [torch.tensor([y]).float() for y in itertools.product([0,1], repeat=args.n_classes)]\n",
    "for y in labels:\n",
    "    # all instances with y label in test dataset\n",
    "    test_dataset_y = [data for data in test_dataset if (data.y == y).prod()]\n",
    "    if len(test_dataset_y):\n",
    "        test_loader_y = DataLoader(test_dataset_y, batch_size=100000, shuffle=True, drop_last=False)\n",
    "        bs = len(test_dataset_y)\n",
    "        data = next(iter(test_loader_y)).to(device)\n",
    "        # inference model q(Z|X)\n",
    "        qz_x = dist.Normal(*model.encoder_x(data.x))\n",
    "        z = qz_x.rsample([1])  \n",
    "        # likelihood model p(X|Z,A)\n",
    "        px_za = dist.Normal(*model.decoder_za(z, data.adj))\n",
    "        # log p(X|Z,A) \n",
    "        log_px_za = px_za.log_prob(data.x.view(bs,model.n_nodes,model.x_dim))\n",
    "        nll[str(y[0].long().tolist())] = log_px_za.sum(-1).sum(-1).mean().item()"
   ]
  },
  {
   "cell_type": "code",
   "execution_count": 70,
   "metadata": {},
   "outputs": [
    {
     "name": "stdout",
     "output_type": "stream",
     "text": [
      "y: [0, 0, 0] -> NLL p(X|Z,A): -7378.2\n",
      "y: [0, 1, 0] -> NLL p(X|Z,A): -7378.1\n",
      "y: [0, 1, 1] -> NLL p(X|Z,A): -7378.0\n",
      "y: [1, 0, 0] -> NLL p(X|Z,A): -7378.0\n",
      "y: [1, 1, 0] -> NLL p(X|Z,A): -7378.1\n",
      "y: [1, 1, 1] -> NLL p(X|Z,A): -7378.1\n"
     ]
    }
   ],
   "source": [
    "for key, value in nll.items():\n",
    "    print(f'y: {key} -> NLL p(X|Z,A): {value:.1f}')"
   ]
  },
  {
   "cell_type": "markdown",
   "metadata": {},
   "source": [
    "### log p(A|w) for each y"
   ]
  },
  {
   "cell_type": "code",
   "execution_count": 71,
   "metadata": {},
   "outputs": [],
   "source": [
    "nll = {}\n",
    "# all possible combinations of labels\n",
    "labels = [torch.tensor([y]).float() for y in itertools.product([0,1], repeat=args.n_classes)]\n",
    "for y in labels:\n",
    "    # all instances with y label in test dataset\n",
    "    test_dataset_y = [data for data in test_dataset if (data.y == y).prod()]\n",
    "    if len(test_dataset_y):\n",
    "        test_loader_y = DataLoader(test_dataset_y, batch_size=100000, shuffle=True, drop_last=False)\n",
    "        bs = len(test_dataset_y)\n",
    "        data = next(iter(test_loader_y)).to(device)\n",
    "        # inference model q(w|A)\n",
    "        qw_a = dist.Normal(*model.encoder_a(data.adj))\n",
    "        w = qw_a.rsample([1])  \n",
    "        # likelihood model p(A|w)\n",
    "        pa_w = dist.Normal(*model.decoder_w(w))\n",
    "        # log p(X|Z,A) \n",
    "        log_pa_w = pa_w.log_prob(data.adj)\n",
    "        nll[str(y[0].long().tolist())] = log_pa_w.sum(-1).sum(-1).mean().item()"
   ]
  },
  {
   "cell_type": "code",
   "execution_count": 72,
   "metadata": {},
   "outputs": [
    {
     "name": "stdout",
     "output_type": "stream",
     "text": [
      "y: [0, 0, 0] -> NLL p(A|w): -937.9\n",
      "y: [0, 1, 0] -> NLL p(A|w): -937.9\n",
      "y: [0, 1, 1] -> NLL p(A|w): -937.9\n",
      "y: [1, 0, 0] -> NLL p(A|w): -937.9\n",
      "y: [1, 1, 0] -> NLL p(A|w): -937.9\n",
      "y: [1, 1, 1] -> NLL p(A|w): -937.9\n"
     ]
    }
   ],
   "source": [
    "for key, value in nll.items():\n",
    "    print(f'y: {key} -> NLL p(A|w): {value:.1f}')"
   ]
  }
 ],
 "metadata": {
  "kernelspec": {
   "display_name": "geometric",
   "language": "python",
   "name": "geometric"
  },
  "language_info": {
   "codemirror_mode": {
    "name": "ipython",
    "version": 3
   },
   "file_extension": ".py",
   "mimetype": "text/x-python",
   "name": "python",
   "nbconvert_exporter": "python",
   "pygments_lexer": "ipython3",
   "version": "3.8.12"
  }
 },
 "nbformat": 4,
 "nbformat_minor": 2
}
