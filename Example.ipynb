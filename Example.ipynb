{
 "cells": [
  {
   "cell_type": "code",
   "execution_count": 1,
   "metadata": {},
   "outputs": [],
   "source": [
    "import torch\n",
    "import random\n",
    "import numpy as np\n",
    "import matplotlib.pyplot as plt\n",
    "# I use torch geometric data objects to handle graph data\n",
    "# See https://pytorch-geometric.readthedocs.io/en/latest/notes/installation.html for installation details\n",
    "from torch_geometric.data import Data, DataLoader"
   ]
  },
  {
   "cell_type": "markdown",
   "metadata": {},
   "source": [
    "# Data set creation"
   ]
  },
  {
   "cell_type": "markdown",
   "metadata": {},
   "source": [
    "### Creating raw data set"
   ]
  },
  {
   "cell_type": "code",
   "execution_count": 2,
   "metadata": {},
   "outputs": [],
   "source": [
    "# We are given with a data set consisting of raw EEG data with N channels and D ms duration\n",
    "N = 32\n",
    "D = 500\n",
    "# There are 'n_patients = [n_hc, n_sz, n_avh]' people in a data set\n",
    "# HC = healthy people, SZ = schizophrenia, AVH = schizophrenia + hallucinations\n",
    "n_hc = 30\n",
    "n_sz = 12\n",
    "n_avh = 10\n",
    "n_patients = [n_hc, n_sz, n_avh]\n",
    "# Each patient has multiple recordings\n",
    "n_exp = 30\n",
    "# Let's generate raw data\n",
    "# EEG data can be significantly out of [-1,1] => we will need normalization\n",
    "create_dataset = lambda n,e: 19*np.random.randn(n, e, N, D)\n",
    "dataset_raw = [create_dataset(n, n_exp) for n in n_patients]"
   ]
  },
  {
   "cell_type": "markdown",
   "metadata": {},
   "source": [
    "### Labeling"
   ]
  },
  {
   "cell_type": "code",
   "execution_count": 3,
   "metadata": {},
   "outputs": [],
   "source": [
    "# Assume 1 data point corresponds to 1 ms\n",
    "# Assume signal (e.g. auditory signal) is given at t = 250\n",
    "# Hence, we can split each signal into 2 parts: t = [0, 249] - resting, t = [250, 499] - listening\n",
    "\n",
    "# We define disease-related labels as 'is_schizophrenia' & 'has_hallucinations'\n",
    "# It corresponds to y_hc = [0,0], y_sz = [1,0], y_avh = [1,1]"
   ]
  },
  {
   "cell_type": "markdown",
   "metadata": {},
   "source": [
    "### Calculating functional connectivity matrix"
   ]
  },
  {
   "cell_type": "code",
   "execution_count": 4,
   "metadata": {},
   "outputs": [
    {
     "data": {
      "image/png": "[encoded data removed]",
      "text/plain": [
       "<Figure size 432x288 with 1 Axes>"
      ]
     },
     "metadata": {
      "needs_background": "light"
     },
     "output_type": "display_data"
    }
   ],
   "source": [
    "# (Optional) function to map [-1,1] -> [-0.1, 1] \n",
    "# It drastically decreases resolution for [-1,0.5] range\n",
    "# Motivation: we are interested only in highly connected links\n",
    "f = lambda t: -0.1 + 0.00909091*121**t\n",
    "plt.plot(np.arange(-1,1,0.1), f(np.arange(-1,1,0.1)))\n",
    "plt.xlabel('Original FC score')\n",
    "plt.ylabel('Updated FC score')\n",
    "plt.title('Function $f$ to highlight strong connections');"
   ]
  },
  {
   "cell_type": "code",
   "execution_count": 5,
   "metadata": {},
   "outputs": [],
   "source": [
    "def get_fc(eeg_data):\n",
    "    N, D = eeg_data.shape\n",
    "    fc_adj = np.corrcoef(eeg_data) # Pearson's correlation coefficient as connectivity measure\n",
    "    fc_adj = f(fc_adj) # Highligting strong connections\n",
    "    fc_adj = fc_adj - np.eye(N,N) #Remove self-self connections\n",
    "    return fc_adj"
   ]
  },
  {
   "cell_type": "markdown",
   "metadata": {},
   "source": [
    "### Creating data sets"
   ]
  },
  {
   "cell_type": "code",
   "execution_count": 6,
   "metadata": {},
   "outputs": [],
   "source": [
    "hc_dataset_raw, sz_dataset_raw, avh_dataset_raw = dataset_raw # given raw data\n",
    "hc_dataset, sz_dataset, avh_dataset = [], [], [] # data sets to train a model"
   ]
  },
  {
   "cell_type": "code",
   "execution_count": 7,
   "metadata": {},
   "outputs": [],
   "source": [
    "for patient_data in hc_dataset_raw:\n",
    "    for experiment_data in patient_data:\n",
    "        experiment_data = (experiment_data + 100)/200 # [-100,100] -> [-1,1] minmax normalization\n",
    "        signal_0 = experiment_data[:,:250] # resting part\n",
    "        signal_1 = experiment_data[:,250:] # listening part\n",
    "        \n",
    "        adj_0 = get_fc(signal_0) \n",
    "        adj_1 = get_fc(signal_1)\n",
    "        \n",
    "        y_0 = [0,0,0] # resting, no schizophrenia, no hallucinations\n",
    "        y_1 = [1,0,0] # listening, no schizophrenia, no hallucinations\n",
    "        \n",
    "        # data must have following components:\n",
    "        #     x (torch.float.Tensor) : raw EEG signal of shape [N, D]\n",
    "        #     adj (torch.float.Tensor) : FC matrix of shape [1, N, N]\n",
    "        #     y (torch.long.Tensor) : binary label vector of shape [1, 3] \n",
    "        data_0 = Data(x = torch.tensor(signal_0).float(), adj = torch.tensor(adj_0).float().unsqueeze(0), y = torch.tensor(y_0).float().unsqueeze(0))\n",
    "        data_1 = Data(x = torch.tensor(signal_1).float(), adj = torch.tensor(adj_1).float().unsqueeze(0), y = torch.tensor(y_1).float().unsqueeze(0))\n",
    "        \n",
    "        hc_dataset.append(data_0)\n",
    "        hc_dataset.append(data_1)\n",
    "        \n",
    "# Repeat for SZ patients        \n",
    "for patient_data in sz_dataset_raw:\n",
    "    for experiment_data in patient_data:\n",
    "        experiment_data = (experiment_data + 100)/200 # [-100,100] -> [-1,1] minmax normalization\n",
    "        signal_0 = experiment_data[:,:250] # resting part\n",
    "        signal_1 = experiment_data[:,250:] # listening part\n",
    "        \n",
    "        adj_0 = get_fc(signal_0) \n",
    "        adj_1 = get_fc(signal_1)\n",
    "        \n",
    "        y_0 = [0,1,0] # resting, schizophrenia, no hallucinations\n",
    "        y_1 = [1,1,0] # listening, schizophrenia, no hallucinations\n",
    "        \n",
    "        # data must have following components:\n",
    "        #     x (torch.float.Tensor) : raw EEG signal of shape [N, D]\n",
    "        #     adj (torch.float.Tensor) : FC matrix of shape [1, N, N]\n",
    "        #     y (torch.long.Tensor) : binary label vector of shape [1, 3] \n",
    "        data_0 = Data(x = torch.tensor(signal_0).float(), adj = torch.tensor(adj_0).float().unsqueeze(0), y = torch.tensor(y_0).float().unsqueeze(0))\n",
    "        data_1 = Data(x = torch.tensor(signal_1).float(), adj = torch.tensor(adj_1).float().unsqueeze(0), y = torch.tensor(y_1).float().unsqueeze(0))\n",
    "        \n",
    "        sz_dataset.append(data_0)\n",
    "        sz_dataset.append(data_1)\n",
    "        \n",
    "# Repeat for AVH patients        \n",
    "for patient_data in sz_dataset_raw:\n",
    "    for experiment_data in patient_data:\n",
    "        experiment_data = (experiment_data + 100)/200 # [-100,100] -> [-1,1] minmax normalization\n",
    "        signal_0 = experiment_data[:,:250] # resting part\n",
    "        signal_1 = experiment_data[:,250:] # listening part\n",
    "        \n",
    "        adj_0 = get_fc(signal_0) \n",
    "        adj_1 = get_fc(signal_1)\n",
    "        \n",
    "        y_0 = [0,1,1] # resting, schizophrenia, hallucinations\n",
    "        y_1 = [1,1,1] # listening, schizophrenia, hallucinations\n",
    "        \n",
    "        # data must have following components:\n",
    "        #     x (torch.float.Tensor) : raw EEG signal of shape [N, D]\n",
    "        #     adj (torch.float.Tensor) : FC matrix of shape [1, N, N]\n",
    "        #     y (torch.long.Tensor) : binary label vector of shape [1, 3] \n",
    "        data_0 = Data(x = torch.tensor(signal_0).float(), adj = torch.tensor(adj_0).float().unsqueeze(0), y = torch.tensor(y_0).float().unsqueeze(0))\n",
    "        data_1 = Data(x = torch.tensor(signal_1).float(), adj = torch.tensor(adj_1).float().unsqueeze(0), y = torch.tensor(y_1).float().unsqueeze(0))\n",
    "        \n",
    "        avh_dataset.append(data_0)\n",
    "        avh_dataset.append(data_1)"
   ]
  },
  {
   "cell_type": "code",
   "execution_count": 8,
   "metadata": {},
   "outputs": [],
   "source": [
    "# Random permuation of data (in-place)\n",
    "random.shuffle(hc_dataset)\n",
    "random.shuffle(sz_dataset)\n",
    "random.shuffle(avh_dataset)"
   ]
  },
  {
   "cell_type": "markdown",
   "metadata": {},
   "source": [
    "### Forming the final data set"
   ]
  },
  {
   "cell_type": "code",
   "execution_count": 9,
   "metadata": {},
   "outputs": [],
   "source": [
    "# there are more healthy people\n",
    "# => for equal representation take only a subset from HC and SZ data sets\n",
    "hc_dataset = hc_dataset[:len(avh_dataset)]\n",
    "sz_dataset = sz_dataset[:len(avh_dataset)]"
   ]
  },
  {
   "cell_type": "code",
   "execution_count": 10,
   "metadata": {},
   "outputs": [],
   "source": [
    "dataset = hc_dataset + sz_dataset + avh_dataset"
   ]
  },
  {
   "cell_type": "code",
   "execution_count": 11,
   "metadata": {},
   "outputs": [],
   "source": [
    "#torch.save(dataset, 'dataset')"
   ]
  },
  {
   "cell_type": "code",
   "execution_count": 12,
   "metadata": {},
   "outputs": [
    {
     "data": {
      "image/png": "[encoded data removed]",
      "text/plain": [
       "<Figure size 720x720 with 3 Axes>"
      ]
     },
     "metadata": {
      "needs_background": "light"
     },
     "output_type": "display_data"
    }
   ],
   "source": [
    "# Let us visualize both EEG data and FC data of a randomly taken data point\n",
    "data = random.choice(dataset)\n",
    "\n",
    "fig, (ax1, ax2) = plt.subplots(1,2, figsize = [10,10])\n",
    "\n",
    "ax1.imshow(data.x, interpolation = 'nearest', aspect = 7.)\n",
    "ax1.set_xlabel('Time, ms')\n",
    "ax1.set_ylabel('EEG channel')\n",
    "ax1.set_title('EEG data')\n",
    "\n",
    "im = ax2.imshow(data.adj[0])\n",
    "ax2.set_xlabel('EEG channel')\n",
    "ax2.set_ylabel('EEG channel')\n",
    "ax2.set_title('Adjacency matrix')\n",
    "fig.colorbar(im, fraction = 0.046);"
   ]
  },
  {
   "cell_type": "markdown",
   "metadata": {},
   "source": [
    "### Train/test split"
   ]
  },
  {
   "cell_type": "code",
   "execution_count": 13,
   "metadata": {},
   "outputs": [
    {
     "name": "stdout",
     "output_type": "stream",
     "text": [
      "Number of training graphs: 1728\n",
      "Number of test graphs: 432\n"
     ]
    },
    {
     "name": "stderr",
     "output_type": "stream",
     "text": [
      "/home/zhdano82/.conda/envs/geometric/lib/python3.8/site-packages/torch_geometric/deprecation.py:13: UserWarning: 'data.DataLoader' is deprecated, use 'loader.DataLoader' instead\n",
      "  warnings.warn(out)\n"
     ]
    }
   ],
   "source": [
    "random.shuffle(dataset)\n",
    "\n",
    "train_dataset = dataset[:8*len(dataset)//10] # First 80% of data\n",
    "test_dataset = dataset[8*len(dataset)//10:] # Last 20% of data\n",
    "\n",
    "print(f'Number of training graphs: {len(train_dataset)}')\n",
    "print(f'Number of test graphs: {len(test_dataset)}')\n",
    "\n",
    "train_loader = DataLoader(train_dataset, batch_size=100, shuffle=True, drop_last=True)\n",
    "test_loader = DataLoader(test_dataset, batch_size=100, shuffle=True, drop_last=True)"
   ]
  },
  {
   "cell_type": "markdown",
   "metadata": {},
   "source": [
    "# Training a model"
   ]
  },
  {
   "cell_type": "code",
   "execution_count": 14,
   "metadata": {},
   "outputs": [],
   "source": [
    "from model import ccVAE\n",
    "from utils import train"
   ]
  },
  {
   "cell_type": "code",
   "execution_count": 15,
   "metadata": {},
   "outputs": [],
   "source": [
    "# A class containing hyperparameters of a model. Mimics argsparse.\n",
    "class Args():\n",
    "    def __init__(self, z_dim = 10, w_dim = 10):\n",
    "        self.n_nodes = N\n",
    "        self.x_dim = 250\n",
    "        self.n_classes = 3 # len(y)\n",
    "        \n",
    "        self.z_dim = z_dim\n",
    "        self.w_dim = w_dim\n",
    "        \n",
    "        self.elbo_coefs = [1.,2.,10.] # beta_z, beta_w, alpha_classifier (see Thesis, 3.3.2)\n",
    "        self.decoder_w_mode = 'conv'\n",
    "        self.cond_prior_w_mode = 'lookup'\n",
    "        self.cond_prior_z_mode = 'lookup'\n",
    "        \n",
    "        self.use_cuda = 1"
   ]
  },
  {
   "cell_type": "code",
   "execution_count": 16,
   "metadata": {},
   "outputs": [],
   "source": [
    "# Initialize model\n",
    "args = Args()\n",
    "model = ccVAE(args).cuda()"
   ]
  },
  {
   "cell_type": "code",
   "execution_count": 17,
   "metadata": {},
   "outputs": [],
   "source": [
    "optimizer = torch.optim.Adam(model.parameters(), lr=5e-4)"
   ]
  },
  {
   "cell_type": "code",
   "execution_count": 18,
   "metadata": {},
   "outputs": [
    {
     "name": "stdout",
     "output_type": "stream",
     "text": [
      "ELBO 9068.58, Accuracy y: [0.55, 0.63, 0.31] MSE X: 1092.74, MSE A: 103.99, KL Z: 184.21, KL W: 5.99, log q(y|X,A): 0.23, \n",
      "Test\n",
      "ELBO 8993.74, Accuracy y: [0.53, 0.69, 0.26] MSE X: 978.98, MSE A: 96.68, KL Z: 173.86, KL W: 5.94, log q(y|X,A): 0.35, \n",
      "ELBO 8510.86, Accuracy y: [0.55, 0.59, 0.26999998] MSE X: 153.10, MSE A: 20.00, KL Z: 180.85, KL W: 6.04, log q(y|X,A): 0.20, \n",
      "ELBO 8424.69, Accuracy y: [0.48999998, 0.61, 0.28] MSE X: 87.32, MSE A: 5.55, KL Z: 179.07, KL W: 6.16, log q(y|X,A): 0.28, \n"
     ]
    }
   ],
   "source": [
    "# Let us train a model now\n",
    "n_epochs = 3\n",
    "for epoch in range(n_epochs):\n",
    "    train(model, optimizer, train_loader, True, 'cuda', 1) # training procedure\n",
    "    if epoch % 5 == 0:\n",
    "        train(model, optimizer, test_loader, False, 'cuda', 1) # testing procedure"
   ]
  }
 ],
 "metadata": {
  "kernelspec": {
   "display_name": "geometric",
   "language": "python",
   "name": "geometric"
  },
  "language_info": {
   "codemirror_mode": {
    "name": "ipython",
    "version": 3
   },
   "file_extension": ".py",
   "mimetype": "text/x-python",
   "name": "python",
   "nbconvert_exporter": "python",
   "pygments_lexer": "ipython3",
   "version": "3.8.12"
  }
 },
 "nbformat": 4,
 "nbformat_minor": 2
}
