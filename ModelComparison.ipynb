{
 "cells": [
  {
   "cell_type": "code",
   "execution_count": 1,
   "id": "47bab830",
   "metadata": {},
   "outputs": [],
   "source": [
    "from models import *\n",
    "import models as m\n",
    "from utils import * \n",
    "from optimizer import *\n",
    "from visualize import *\n",
    "from meta import *\n",
    "import random\n",
    "from torch_geometric.datasets import TUDataset\n",
    "from torch_geometric.data import DataLoader\n",
    "import matplotlib.pyplot as plt\n",
    "from sklearn.metrics.pairwise import cosine_similarity\n",
    "from sklearn.metrics import normalized_mutual_info_score as mis\n",
    "import numpy as np"
   ]
  },
  {
   "cell_type": "markdown",
   "id": "8f46834f",
   "metadata": {},
   "source": [
    "## Initialize dataset"
   ]
  },
  {
   "cell_type": "code",
   "execution_count": 2,
   "id": "80712031",
   "metadata": {},
   "outputs": [],
   "source": [
    "data_name = \"Corr\" #\"Corr\" Mutagenicity\" #'IMDB-BINARY' 'MUTAG'"
   ]
  },
  {
   "cell_type": "code",
   "execution_count": 3,
   "id": "0ccc8ac0",
   "metadata": {},
   "outputs": [],
   "source": [
    "if data_name == \"Corr\":\n",
    "    parameters = {'n_nodes' : 30, 'noise_mu' : 0.5, 'len_sig' : 100, 'phase_mu' : np.pi/10, 'n_active_nodes' : 6}\n",
    "    active_nodes = [1,2,3,4,14,15,16,27,28,29]\n",
    "    dataset = CorrDataset(parameters, active_nodes, 200).dataset\n",
    "else:    \n",
    "    dataset = TUDataset(root='data/TUDataset', name=data_name)\n",
    "    \n",
    "    print()\n",
    "    print(f'Dataset: {dataset}:')\n",
    "    print('====================')\n",
    "    print(f'Number of graphs: {len(dataset)}')\n",
    "    print(f'Number of features: {dataset.num_features}')\n",
    "    print(f'Number of classes: {dataset.num_classes}')"
   ]
  },
  {
   "cell_type": "code",
   "execution_count": 4,
   "id": "eabea0bf",
   "metadata": {},
   "outputs": [],
   "source": [
    "dataset = [data for data in dataset if data.x.shape[0] < 40]"
   ]
  },
  {
   "cell_type": "code",
   "execution_count": 5,
   "id": "1c83cc25",
   "metadata": {},
   "outputs": [
    {
     "name": "stdout",
     "output_type": "stream",
     "text": [
      "Max number of nodes: 30\n"
     ]
    }
   ],
   "source": [
    "max_n_nodes = get_max_n_nodes(dataset)\n",
    "print(f'Max number of nodes: {max_n_nodes}')"
   ]
  },
  {
   "cell_type": "code",
   "execution_count": 6,
   "id": "b8688f55",
   "metadata": {},
   "outputs": [],
   "source": [
    "dataset = add_edge_noise(dataset, 0, 10)"
   ]
  },
  {
   "cell_type": "code",
   "execution_count": 7,
   "id": "3750f84e",
   "metadata": {},
   "outputs": [],
   "source": [
    "dataset = update_dataset(dataset, max_n_nodes, None)"
   ]
  },
  {
   "cell_type": "code",
   "execution_count": 8,
   "id": "19e4695b",
   "metadata": {},
   "outputs": [
    {
     "name": "stdout",
     "output_type": "stream",
     "text": [
      "Number of training graphs: 150\n",
      "Number of test graphs: 50\n"
     ]
    }
   ],
   "source": [
    "torch.manual_seed(12345)\n",
    "random.shuffle(dataset)\n",
    "\n",
    "train_dataset = dataset[:3*len(dataset)//4]\n",
    "test_dataset = dataset[3*len(dataset)//4:]\n",
    "\n",
    "print(f'Number of training graphs: {len(train_dataset)}')\n",
    "print(f'Number of test graphs: {len(test_dataset)}')"
   ]
  },
  {
   "cell_type": "code",
   "execution_count": 9,
   "id": "0adac57c",
   "metadata": {},
   "outputs": [],
   "source": [
    "train_loader = DataLoader(train_dataset, batch_size=16, shuffle=True)\n",
    "test_loader = DataLoader(test_dataset, batch_size=16, shuffle=False)"
   ]
  },
  {
   "cell_type": "markdown",
   "id": "c3583da0",
   "metadata": {},
   "source": [
    "## Conduct experiments"
   ]
  },
  {
   "cell_type": "code",
   "execution_count": 10,
   "id": "5aee6e62",
   "metadata": {},
   "outputs": [],
   "source": [
    "latent_dim = 2\n",
    "\n",
    "n_nodes = max_n_nodes\n",
    "feat_dim = dataset[0].x.shape[1]\n",
    "edge_dim = 0 #dataset[0].edge_attr.shape[1]\n",
    "hidden_dim_ = 64 # adjMLP\n",
    "hidden_dim = 16 # GNN\n",
    "beta = 1.\n",
    "gamma = 0.\n",
    "delta = 0.\n",
    "dropout = 0.0\n",
    "lr = 1e-3\n",
    "epochs = 200\n",
    "save_file = 'model'\n",
    "model_type = 'adj'\n",
    "\n",
    "prior = Normal(0,1.)\n",
    "posterior = Normal()"
   ]
  },
  {
   "cell_type": "code",
   "execution_count": 11,
   "id": "f8d3d05a",
   "metadata": {},
   "outputs": [],
   "source": [
    "constants = {'model_type': 'conv_mlp', 'posterior': posterior, 'n_nodes': max_n_nodes, 'feat_dim': feat_dim, 'hidden_dim': hidden_dim, 'latent_dim': latent_dim, 'dropout': dropout, 'beta': beta, 'gamma': gamma, 'delta': delta, 'lr': lr, 'epochs': 500}"
   ]
  },
  {
   "cell_type": "code",
   "execution_count": 12,
   "id": "8d56376c",
   "metadata": {},
   "outputs": [],
   "source": [
    "to_vary = {'prior':[Normal(0,1.), Normal(0,0.5), , Normal(0,0.1)]}"
   ]
  },
  {
   "cell_type": "code",
   "execution_count": 13,
   "id": "f3ef5f22",
   "metadata": {},
   "outputs": [],
   "source": [
    "parameters = constants | to_vary"
   ]
  },
  {
   "cell_type": "code",
   "execution_count": 20,
   "id": "1a9b7ab5",
   "metadata": {},
   "outputs": [],
   "source": [
    "e = Experiment(parameters)"
   ]
  },
  {
   "cell_type": "code",
   "execution_count": 15,
   "id": "77d484be",
   "metadata": {},
   "outputs": [
    {
     "name": "stderr",
     "output_type": "stream",
     "text": [
      "Training for 2 epochs: 100%|██████████████████████| 2/2 [00:02<00:00,  1.48s/it]\n"
     ]
    },
    {
     "name": "stdout",
     "output_type": "stream",
     "text": [
      "Optimization Finished!\n",
      "Model type: conv_mlp\n",
      "Best epoch: 1 , Best test set loss: 285.6828\n",
      "Sparseness: 0.095\n",
      "C1 Loss: 1.513\n"
     ]
    },
    {
     "name": "stderr",
     "output_type": "stream",
     "text": [
      "Training for 2 epochs: 100%|██████████████████████| 2/2 [00:02<00:00,  1.31s/it]\n"
     ]
    },
    {
     "name": "stdout",
     "output_type": "stream",
     "text": [
      "Optimization Finished!\n",
      "Model type: conv_mlp\n",
      "Best epoch: 1 , Best test set loss: 281.8702\n",
      "Sparseness: 0.463\n",
      "C1 Loss: 1.570\n"
     ]
    },
    {
     "name": "stderr",
     "output_type": "stream",
     "text": [
      "Training for 2 epochs: 100%|██████████████████████| 2/2 [00:02<00:00,  1.24s/it]\n"
     ]
    },
    {
     "name": "stdout",
     "output_type": "stream",
     "text": [
      "Optimization Finished!\n",
      "Model type: conv_mlp\n",
      "Best epoch: 1 , Best test set loss: 273.0304\n",
      "Sparseness: 0.114\n",
      "C1 Loss: 1.567\n"
     ]
    },
    {
     "name": "stderr",
     "output_type": "stream",
     "text": [
      "Training for 2 epochs: 100%|██████████████████████| 2/2 [00:02<00:00,  1.21s/it]"
     ]
    },
    {
     "name": "stdout",
     "output_type": "stream",
     "text": [
      "Optimization Finished!\n",
      "Model type: conv_mlp\n",
      "Best epoch: 1 , Best test set loss: 287.3863\n",
      "Sparseness: 0.396\n",
      "C1 Loss: 1.565\n"
     ]
    },
    {
     "name": "stderr",
     "output_type": "stream",
     "text": [
      "\n"
     ]
    }
   ],
   "source": [
    "e.run(train_loader, test_loader, N = 5)"
   ]
  },
  {
   "cell_type": "raw",
   "id": "61814fa5",
   "metadata": {},
   "source": [
    "e.visualize('c1_loss')"
   ]
  },
  {
   "cell_type": "code",
   "execution_count": 17,
   "id": "f1b164f4",
   "metadata": {},
   "outputs": [],
   "source": [
    "e.save()"
   ]
  }
 ],
 "metadata": {
  "kernelspec": {
   "display_name": "Python 3 (ipykernel)",
   "language": "python",
   "name": "python3"
  },
  "language_info": {
   "codemirror_mode": {
    "name": "ipython",
    "version": 3
   },
   "file_extension": ".py",
   "mimetype": "text/x-python",
   "name": "python",
   "nbconvert_exporter": "python",
   "pygments_lexer": "ipython3",
   "version": "3.9.5"
  }
 },
 "nbformat": 4,
 "nbformat_minor": 5
}
