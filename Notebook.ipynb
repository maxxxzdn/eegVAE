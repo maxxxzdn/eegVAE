{
 "cells": [
  {
   "cell_type": "code",
   "execution_count": 1,
   "id": "b8439e0f",
   "metadata": {},
   "outputs": [],
   "source": [
    "from model import *\n",
    "from utils import * \n",
    "from optimizer import *\n",
    "from visualize import *\n",
    "from meta import *\n",
    "import random\n",
    "from torch_geometric.datasets import TUDataset\n",
    "from torch_geometric.data import DataLoader\n",
    "import matplotlib.pyplot as plt\n",
    "from sklearn.metrics.pairwise import cosine_similarity\n",
    "from sklearn.metrics import normalized_mutual_info_score as mis\n",
    "import numpy as np"
   ]
  },
  {
   "cell_type": "markdown",
   "id": "1024e0cf",
   "metadata": {},
   "source": [
    "## Initialize dataset"
   ]
  },
  {
   "cell_type": "code",
   "execution_count": 2,
   "id": "3426d3a3",
   "metadata": {},
   "outputs": [],
   "source": [
    "latent_dim = 32"
   ]
  },
  {
   "cell_type": "code",
   "execution_count": 3,
   "id": "f0f2a36c",
   "metadata": {},
   "outputs": [
    {
     "name": "stdout",
     "output_type": "stream",
     "text": [
      "\n",
      "Dataset: MUTAG(188):\n",
      "====================\n",
      "Number of graphs: 188\n",
      "Number of features: 7\n",
      "Number of classes: 2\n"
     ]
    }
   ],
   "source": [
    "dataset = TUDataset(root='data/TUDataset', name='MUTAG')\n",
    "\n",
    "print()\n",
    "print(f'Dataset: {dataset}:')\n",
    "print('====================')\n",
    "print(f'Number of graphs: {len(dataset)}')\n",
    "print(f'Number of features: {dataset.num_features}')\n",
    "print(f'Number of classes: {dataset.num_classes}')"
   ]
  },
  {
   "cell_type": "code",
   "execution_count": 4,
   "id": "e549ffe5",
   "metadata": {},
   "outputs": [
    {
     "name": "stdout",
     "output_type": "stream",
     "text": [
      "Max number of nodes: 28\n"
     ]
    }
   ],
   "source": [
    "max_n_nodes = get_max_n_nodes(dataset)\n",
    "print(f'Max number of nodes: {max_n_nodes}')"
   ]
  },
  {
   "cell_type": "code",
   "execution_count": 5,
   "id": "3ef7e4e6",
   "metadata": {},
   "outputs": [],
   "source": [
    "dataset = update_dataset(dataset, max_n_nodes, latent_dim)"
   ]
  },
  {
   "cell_type": "code",
   "execution_count": 6,
   "id": "0968b4bd",
   "metadata": {},
   "outputs": [
    {
     "name": "stdout",
     "output_type": "stream",
     "text": [
      "Number of training graphs: 150\n",
      "Number of test graphs: 38\n"
     ]
    }
   ],
   "source": [
    "torch.manual_seed(12345)\n",
    "random.shuffle(dataset)\n",
    "\n",
    "train_dataset = dataset[:150]\n",
    "test_dataset = dataset[150:]\n",
    "\n",
    "print(f'Number of training graphs: {len(train_dataset)}')\n",
    "print(f'Number of test graphs: {len(test_dataset)}')"
   ]
  },
  {
   "cell_type": "code",
   "execution_count": 7,
   "id": "ae182b64",
   "metadata": {},
   "outputs": [],
   "source": [
    "train_loader = DataLoader(train_dataset, batch_size=16, shuffle=True)\n",
    "test_loader = DataLoader(test_dataset, batch_size=16, shuffle=False)"
   ]
  },
  {
   "cell_type": "markdown",
   "id": "00e23268",
   "metadata": {},
   "source": [
    "## Initialize & train a model"
   ]
  },
  {
   "cell_type": "code",
   "execution_count": 8,
   "id": "2c497ed7",
   "metadata": {},
   "outputs": [],
   "source": [
    "n_nodes = 28\n",
    "feat_dim = 7\n",
    "edge_dim = 4\n",
    "hidden_dim = 64\n",
    "beta = 1.\n",
    "dropout = 0.0\n",
    "lr = 1e-4\n",
    "epochs = 100\n",
    "save_file = 'model'\n",
    "model_type = 'conv'"
   ]
  },
  {
   "cell_type": "code",
   "execution_count": 9,
   "id": "e4d8b563",
   "metadata": {},
   "outputs": [],
   "source": [
    "if model_type == 'conv':\n",
    "    model = convVAE(n_nodes, feat_dim, hidden_dim, latent_dim, beta)\n",
    "elif model_type == 'att':\n",
    "    model = attVAE(n_nodes, feat_dim, hidden_dim, latent_dim, beta)\n",
    "elif model_type == 'cheb':\n",
    "    model = chebVAE(n_nodes, feat_dim, hidden_dim, latent_dim, beta)\n",
    "elif model_type == 'mp':\n",
    "    dims = {\"e_f\": edge_dim, 'n_f': feat_dim, 'u_f': latent_dim, 'hidden': hidden_dim}\n",
    "    model = mpVAE(n_nodes, dims, beta)\n",
    "    \n",
    "optimizer = torch.optim.Adam(model.parameters(), lr=lr)"
   ]
  },
  {
   "cell_type": "code",
   "execution_count": 10,
   "id": "f5485529",
   "metadata": {},
   "outputs": [
    {
     "name": "stderr",
     "output_type": "stream",
     "text": [
      "Training for 100 epochs: 100%|████████████████| 100/100 [00:05<00:00, 18.91it/s]"
     ]
    },
    {
     "name": "stdout",
     "output_type": "stream",
     "text": [
      "Optimization Finished!\n",
      "Model type: conv\n",
      "Best epoch: 79 , Best test set loss: 51.0999\n"
     ]
    },
    {
     "name": "stderr",
     "output_type": "stream",
     "text": [
      "\n"
     ]
    }
   ],
   "source": [
    "log = fit(model, optimizer, train_loader, test_loader, epochs, save_file)"
   ]
  },
  {
   "cell_type": "code",
   "execution_count": 11,
   "id": "ba60aeff",
   "metadata": {},
   "outputs": [
    {
     "data": {
      "image/png": "[encoded data removed]",
      "text/plain": [
       "<Figure size 432x288 with 1 Axes>"
      ]
     },
     "metadata": {
      "needs_background": "light"
     },
     "output_type": "display_data"
    }
   ],
   "source": [
    "performance_plot(log)"
   ]
  },
  {
   "cell_type": "markdown",
   "id": "ed1ee233",
   "metadata": {},
   "source": [
    "## Visualize results"
   ]
  },
  {
   "cell_type": "code",
   "execution_count": 12,
   "id": "f9feb47c",
   "metadata": {},
   "outputs": [],
   "source": [
    "model.state_dict = torch.load('model')"
   ]
  },
  {
   "cell_type": "code",
   "execution_count": 13,
   "id": "a0219953",
   "metadata": {},
   "outputs": [],
   "source": [
    "# get random graph as Data object\n",
    "data = random.choice(list(train_loader))\n",
    "# the Data object is a batch => take a random index from the batch\n",
    "n = random.choice(range(len(data.y)))\n",
    "if model.type == 'mp':\n",
    "    recovered, mu, logvar = model(data.x, data.edge_index, data.edge_attr, data.u, data.batch)\n",
    "else:\n",
    "    recovered, mu, logvar = model(data.x, data.edge_index, data.batch)"
   ]
  },
  {
   "cell_type": "code",
   "execution_count": 14,
   "id": "49a3128a",
   "metadata": {},
   "outputs": [],
   "source": [
    "adj_pred = tensor_from_trian(recovered)[n].detach().numpy()\n",
    "adj = data.adj[n].detach().numpy()"
   ]
  },
  {
   "cell_type": "code",
   "execution_count": 15,
   "id": "4537485e",
   "metadata": {},
   "outputs": [
    {
     "data": {
      "image/png": "[encoded data removed]",
      "text/plain": [
       "<Figure size 1080x360 with 4 Axes>"
      ]
     },
     "metadata": {
      "needs_background": "light"
     },
     "output_type": "display_data"
    }
   ],
   "source": [
    "visualize_recon_adj(adj_pred, adj, 0.5)"
   ]
  },
  {
   "cell_type": "code",
   "execution_count": 16,
   "id": "632ff74a",
   "metadata": {},
   "outputs": [
    {
     "data": {
      "image/png": "[encoded data removed]",
      "text/plain": [
       "<Figure size 720x432 with 2 Axes>"
      ]
     },
     "metadata": {},
     "output_type": "display_data"
    }
   ],
   "source": [
    "visualize_recon_graph(adj_pred, adj, 0.5)"
   ]
  },
  {
   "cell_type": "markdown",
   "id": "f9cbac5a",
   "metadata": {},
   "source": [
    "## Latent space (2D case)"
   ]
  },
  {
   "cell_type": "code",
   "execution_count": null,
   "id": "77532140",
   "metadata": {},
   "outputs": [],
   "source": [
    "if model.latent_dim == 2:\n",
    "    model.state_dict = torch.load('model')\n",
    "    all_loader = DataLoader(dataset, batch_size=10**10, shuffle=True)\n",
    "    data = next(iter(all_loader))\n",
    "        \n",
    "    mu, logvar = model.encode(data.x, data.edge_index, data.batch)\n",
    "    z = model.reparameterize(mu, logvar).detach().numpy()\n",
    "    \n",
    "    visualize_z_space(z, data.y)"
   ]
  },
  {
   "cell_type": "markdown",
   "id": "c771bf65",
   "metadata": {},
   "source": [
    "## Inference task I: $argmax_{A}p(A|y)$ "
   ]
  },
  {
   "cell_type": "code",
   "execution_count": null,
   "id": "bc8e8c55",
   "metadata": {},
   "outputs": [],
   "source": [
    "y = 0"
   ]
  },
  {
   "cell_type": "code",
   "execution_count": null,
   "id": "11f487ad",
   "metadata": {},
   "outputs": [],
   "source": [
    "mask = create_mask(n_nodes)"
   ]
  },
  {
   "cell_type": "code",
   "execution_count": null,
   "id": "5db497b9",
   "metadata": {},
   "outputs": [],
   "source": [
    "z_y = get_cluster(model, dataset, y)\n",
    "z_centre = cluster_centre(z_y)"
   ]
  },
  {
   "cell_type": "code",
   "execution_count": null,
   "id": "0544a408",
   "metadata": {},
   "outputs": [],
   "source": [
    "if model.latent_dim == 2:\n",
    "    visualize_z_space(z, data.y, z_centre.detach().numpy())"
   ]
  },
  {
   "cell_type": "code",
   "execution_count": null,
   "id": "b2c50939",
   "metadata": {},
   "outputs": [],
   "source": [
    "a_y = model.decode(z_centre).view(model.n_nodes,model.n_nodes)\n",
    "a_y = (a_y*mask).detach().numpy().squeeze()"
   ]
  },
  {
   "cell_type": "code",
   "execution_count": null,
   "id": "f1040205",
   "metadata": {
    "scrolled": true
   },
   "outputs": [],
   "source": [
    "visualize_adj_graph(a_y)"
   ]
  },
  {
   "cell_type": "markdown",
   "id": "1c498414",
   "metadata": {},
   "source": [
    "## Inference task II: $argmax_{z_i \\in Z} MI(z_i, Y)$ "
   ]
  },
  {
   "cell_type": "code",
   "execution_count": 14,
   "id": "92a8129e",
   "metadata": {},
   "outputs": [],
   "source": [
    "loader = DataLoader(dataset, batch_size=10**10, shuffle=True)"
   ]
  },
  {
   "cell_type": "code",
   "execution_count": 15,
   "id": "f66e61b0",
   "metadata": {},
   "outputs": [],
   "source": [
    "data = next(iter(loader))"
   ]
  },
  {
   "cell_type": "code",
   "execution_count": null,
   "id": "11f0c1b0",
   "metadata": {},
   "outputs": [],
   "source": [
    "mu, logvar = model.encode(data.x, data.edge_index, data.batch)\n",
    "z = model.reparameterize(mu, logvar).detach().numpy()"
   ]
  },
  {
   "cell_type": "code",
   "execution_count": null,
   "id": "2844d443",
   "metadata": {},
   "outputs": [],
   "source": [
    "cs = np.abs(cosine_similarity(z.T)).mean()\n",
    "print('Average cosine similarity between latent variables: {:.2f}'.format(cs))"
   ]
  },
  {
   "cell_type": "code",
   "execution_count": null,
   "id": "8161ce2e",
   "metadata": {},
   "outputs": [],
   "source": [
    "vis_digitized(z[:,0], digitize_z(z[:,0]))"
   ]
  },
  {
   "cell_type": "code",
   "execution_count": null,
   "id": "82632e47",
   "metadata": {},
   "outputs": [],
   "source": [
    "# compute MI(z_i, Y) for each z_i in Z\n",
    "mi = []\n",
    "for i in range(hidden2):\n",
    "    a = digitize_z(z[:,i])\n",
    "    b = data.y.detach().numpy()\n",
    "    mi.append(mis(a,b))"
   ]
  },
  {
   "cell_type": "code",
   "execution_count": null,
   "id": "bdde8ae4",
   "metadata": {},
   "outputs": [],
   "source": [
    "plt.bar(x = range(len(mi)), height = mi)\n",
    "plt.xlabel('$z_i$')\n",
    "plt.ylabel('MI($z_i$, Y)')\n",
    "plt.title('MI($z_i$, Y)')"
   ]
  },
  {
   "cell_type": "code",
   "execution_count": null,
   "id": "a97ee352",
   "metadata": {},
   "outputs": [],
   "source": [
    "# range of z_i with max MIS\n",
    "a = z[:,np.argmax(mi)].min()\n",
    "b = z[:,np.argmax(mi)].max()"
   ]
  },
  {
   "cell_type": "code",
   "execution_count": null,
   "id": "13a014ae",
   "metadata": {},
   "outputs": [],
   "source": [
    "# Vary z_i across its range and see how adajcency matrix changes\n",
    "for value in np.arange(a, b, (b-a)/10):\n",
    "    z = torch.zeros(hidden2)\n",
    "    z[i] = value\n",
    "    adj = ((model.decode(z).view(28,28)*mask).detach().numpy() > 0.5)*1\n",
    "    f, (ax1, ax2) = plt.subplots(1, 2)\n",
    "    ax1.imshow(adj.squeeze())\n",
    "    show_graphs(adj.squeeze(), ax = ax2)"
   ]
  },
  {
   "cell_type": "code",
   "execution_count": null,
   "id": "fd1bbbc6",
   "metadata": {},
   "outputs": [],
   "source": []
  },
  {
   "cell_type": "code",
   "execution_count": null,
   "id": "ab073b4f",
   "metadata": {},
   "outputs": [],
   "source": []
  },
  {
   "cell_type": "code",
   "execution_count": 17,
   "id": "f5276c8e",
   "metadata": {},
   "outputs": [],
   "source": [
    "from torch_geometric.nn import MetaLayer"
   ]
  },
  {
   "cell_type": "code",
   "execution_count": 16,
   "id": "fc01d22a",
   "metadata": {},
   "outputs": [],
   "source": [
    "data = next(iter(train_loader))"
   ]
  },
  {
   "cell_type": "code",
   "execution_count": 19,
   "id": "46ca0cf7",
   "metadata": {},
   "outputs": [],
   "source": [
    "op = MetaLayer(EdgeModel(19, 10, 2), NodeModel(9, 10, 2), GlobalModel(2, 10, 2))\n",
    "x, edge_attr, u = op(data.x, data.edge_index, data.edge_attr, data.u, data.batch)"
   ]
  },
  {
   "cell_type": "code",
   "execution_count": null,
   "id": "2cd1eebc",
   "metadata": {},
   "outputs": [],
   "source": []
  },
  {
   "cell_type": "code",
   "execution_count": null,
   "id": "16c98512",
   "metadata": {},
   "outputs": [],
   "source": []
  }
 ],
 "metadata": {
  "kernelspec": {
   "display_name": "Python 3 (ipykernel)",
   "language": "python",
   "name": "python3"
  },
  "language_info": {
   "codemirror_mode": {
    "name": "ipython",
    "version": 3
   },
   "file_extension": ".py",
   "mimetype": "text/x-python",
   "name": "python",
   "nbconvert_exporter": "python",
   "pygments_lexer": "ipython3",
   "version": "3.9.5"
  }
 },
 "nbformat": 4,
 "nbformat_minor": 5
}
