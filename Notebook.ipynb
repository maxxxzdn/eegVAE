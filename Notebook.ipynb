{
 "cells": [
  {
   "cell_type": "code",
   "execution_count": null,
   "metadata": {},
   "outputs": [],
   "source": [
    "import torch\n",
    "import random\n",
    "import math\n",
    "from torch_geometric.data import DataLoader"
   ]
  },
  {
   "cell_type": "code",
   "execution_count": null,
   "metadata": {},
   "outputs": [],
   "source": [
    "from model import ccVAE\n",
    "from utils import train"
   ]
  },
  {
   "cell_type": "code",
   "execution_count": null,
   "metadata": {},
   "outputs": [],
   "source": [
    "class Args():\n",
    "    def __init__(self, z_dim = 10, w_dim = 10):\n",
    "        self.z_dim = z_dim\n",
    "        self.w_dim = w_dim\n",
    "        self.n_nodes = 61\n",
    "        self.decoder_w_mode = 'conv'\n",
    "        self.cond_prior_w_mode = 'lookup'\n",
    "        self.cond_prior_z_mode = 'lookup'\n",
    "        self.use_cuda = 1\n",
    "        self.n_classes = 2\n",
    "        self.x_dim = 500\n",
    "        self.elbo_coefs = [1.,2.,10.]"
   ]
  },
  {
   "cell_type": "code",
   "execution_count": null,
   "metadata": {},
   "outputs": [],
   "source": [
    "args = Args()"
   ]
  },
  {
   "cell_type": "code",
   "execution_count": null,
   "metadata": {},
   "outputs": [],
   "source": [
    "model = ccVAE(args).cuda()"
   ]
  },
  {
   "cell_type": "code",
   "execution_count": null,
   "metadata": {},
   "outputs": [],
   "source": [
    "dataset = torch.load('data/low_corr')\n",
    "f = lambda t: -0.1 + 0.00909091*121**t \n",
    "feature_map = {0: [0,0,0], 1: [0,0,1], 2: [1,0,0], 3: [1,0,1], 4: [1,1,0], 5: [1,1,1]}\n",
    "get_features = lambda x: torch.tensor(feature_map[x.item()])\n",
    "\n",
    "dataset_ = []\n",
    "for data in dataset:\n",
    "    data.adj = f(data.adj)\n",
    "    data.adj -= torch.eye(61).unsqueeze(0)\n",
    "    data.y = get_features(data.y).unsqueeze(0).float()\n",
    "    if data.y[:,0] == 1:\n",
    "        data.y = data.y[:,1:]\n",
    "        dataset_.append(data)\n",
    "    \n",
    "    \n",
    "torch.manual_seed(12345)\n",
    "random.shuffle(dataset_)\n",
    "\n",
    "train_dataset = dataset_[:8*len(dataset_)//10]\n",
    "test_dataset = dataset_[8*len(dataset_)//10:]\n",
    "\n",
    "print(f'Number of training graphs: {len(train_dataset)}')\n",
    "print(f'Number of test graphs: {len(test_dataset)}')\n",
    "\n",
    "train_loader = DataLoader(train_dataset, batch_size=100, shuffle=True, drop_last=True)\n",
    "test_loader = DataLoader(test_dataset[:500], batch_size=500, shuffle=False, drop_last=True)\n",
    "\n",
    "#all_test_loader = DataLoader(test_dataset, batch_size=10**10, shuffle=False, drop_last=False)"
   ]
  },
  {
   "cell_type": "code",
   "execution_count": null,
   "metadata": {},
   "outputs": [],
   "source": [
    "optimizer = torch.optim.Adam(model.parameters(), lr=5e-4)"
   ]
  },
  {
   "cell_type": "code",
   "execution_count": null,
   "metadata": {},
   "outputs": [],
   "source": [
    "for i in range(100):\n",
    "    _ = train(model, optimizer, train_loader, True, 'cuda', 1)\n",
    "    if i % 5 == 0:\n",
    "        qyxa = train(model, optimizer, test_loader, False, 'cuda', 1)"
   ]
  },
  {
   "cell_type": "markdown",
   "metadata": {},
   "source": [
    "## Reconstruction"
   ]
  },
  {
   "cell_type": "code",
   "execution_count": null,
   "metadata": {},
   "outputs": [],
   "source": [
    "import torch.distributions as dist"
   ]
  },
  {
   "cell_type": "code",
   "execution_count": null,
   "metadata": {},
   "outputs": [],
   "source": [
    "data = next(iter(train_loader)).cuda()"
   ]
  },
  {
   "cell_type": "code",
   "execution_count": null,
   "metadata": {},
   "outputs": [],
   "source": [
    "with torch.no_grad():\n",
    "    bs = data.adj.shape[0]\n",
    "    #Z ~ q(Z|X)\n",
    "    qz_x = dist.Normal(*model.encoder_x(data.x))\n",
    "    z = qz_x.rsample([model.k])  \n",
    "    #Z = {Z_c, Z_\\c}\n",
    "    zc, zs = z.split([model.z_classify, model.z_style], -1)\n",
    "    #w ~ q(w|A)\n",
    "    qw_a = dist.Normal(*model.encoder_a(data.adj))\n",
    "    w = qw_a.rsample([model.k])\n",
    "    #w = {w_c, w_\\c}\n",
    "    wc, ws = w.split([model.w_classify, model.w_style], -1)\n",
    "    #log q(y|Z_c, w_c),  log q(y|X, A)\n",
    "    qy_zc_wc = dist.ContinuousBernoulli(probs = model.classifier(zc, wc))\n",
    "    y = qy_zc_wc.rsample()\n",
    "    log_qy_zc_wc = qy_zc_wc.log_prob(y)\n",
    "    log_qy_xa = model.classifier_loss(data)\n",
    "    #log p(y)\n",
    "    log_py = dist.ContinuousBernoulli(data.y).log_prob(y)\n",
    "\n",
    "    #elbo_z\n",
    "    px_za = dist.Normal(*model.decoder_za(z, data.adj))\n",
    "    log_px_za = px_za.log_prob(data.x.view(bs,61,500))\n",
    "    log_qz_x = qz_x.log_prob(z)\n",
    "\n",
    "    locs_pzc_y, scales_pzc_y = model.cond_prior_z(data.y)\n",
    "    prior_params_z = (torch.cat([locs_pzc_y, model.zeros_z.expand(bs, 61, -1)], dim=-1), \n",
    "                      torch.cat([scales_pzc_y, model.ones_z.expand(bs, 61, -1)], dim=-1))\n",
    "\n",
    "    log_pz_y = dist.Normal(*prior_params_z).log_prob(z)\n",
    "\n",
    "    kl_z = (log_qz_x - log_pz_y).mean(0).sum(-1).sum(-1)\n",
    "    recon_x = log_px_za.sum(-1).sum(-1)\n",
    "    elbo_z = recon_x - kl_z\n",
    "\n",
    "    #elbo_w\n",
    "    pa_w = dist.Normal(*model.decoder_w(w))\n",
    "    log_pa_w = pa_w.log_prob(data.adj)\n",
    "    log_qw_a = qw_a.log_prob(w)\n",
    "\n",
    "    locs_pwc_y, scales_pwc_y = model.cond_prior_w(data.y)\n",
    "    prior_params_w = (torch.cat([locs_pwc_y, model.zeros_w.expand(bs, -1)], dim=-1), \n",
    "                      torch.cat([scales_pwc_y, model.ones_w.expand(bs, -1)], dim=-1))\n",
    "\n",
    "    log_pw_y = dist.Normal(*prior_params_w).log_prob(w)\n",
    "\n",
    "    kl_w = (log_qw_a - log_pw_y).mean(0).sum(-1)\n",
    "    recon_a = log_pa_w.sum(-1).sum(-1)\n",
    "    elbo_w = recon_a - kl_w"
   ]
  },
  {
   "cell_type": "markdown",
   "metadata": {},
   "source": [
    "### Reconstruction X"
   ]
  },
  {
   "cell_type": "code",
   "execution_count": null,
   "metadata": {},
   "outputs": [],
   "source": [
    "x_recon = px_za.loc.cpu().detach()\n",
    "x = data.x.view(bs,61,500).cpu().detach()"
   ]
  },
  {
   "cell_type": "code",
   "execution_count": null,
   "metadata": {},
   "outputs": [],
   "source": [
    "import seaborn as sns\n",
    "import matplotlib.pyplot as plt\n",
    "sns.set_theme()"
   ]
  },
  {
   "cell_type": "code",
   "execution_count": null,
   "metadata": {},
   "outputs": [],
   "source": [
    "sns.set_theme()\n",
    "channels = random.sample(range(61), 2*3)\n",
    "fig, ax = plt.subplots(3,2, figsize = [10,10], sharex=True)\n",
    "for i in range(3):\n",
    "    for j in range(2):\n",
    "        k = random.choice(range(100))\n",
    "        c = channels[i*2+j]\n",
    "        ax[i][j].plot(x_recon[k, c], linewidth = 3, label = 'Reconstruction')\n",
    "        ax[i][j].plot(x[k, c], alpha = 0.5, label = 'EEG recording')\n",
    "        ax[i][j].set(xticklabels=[])\n",
    "        ax[i][j].set(yticklabels=[])\n",
    "fig.tight_layout()\n",
    "ax[-1,-1].legend(prop={'size': 24}, loc='lower left', \n",
    "             bbox_to_anchor=(-0.85, -0.35), ncol=2)\n",
    "#fig.savefig('recon_x_small', bbox_inches='tight')"
   ]
  },
  {
   "cell_type": "code",
   "execution_count": null,
   "metadata": {},
   "outputs": [],
   "source": [
    "n = 5\n",
    "\n",
    "channels = sample(range(61), n*n)\n",
    "fig, ax = plt.subplots(n,n, figsize = [20,20], sharex=True)\n",
    "for i in range(n):\n",
    "    for j in range(n):\n",
    "        k = choice(range(100))\n",
    "        c = channels[i*n+j]\n",
    "        ax[i][j].plot(x_recon[k, c], linewidth = 3)\n",
    "        ax[i][j].plot(x[k, c], alpha = 0.5)\n",
    "        ax[i][j].set(xticklabels=[])\n",
    "        ax[i][j].set(yticklabels=[])\n",
    "fig.tight_layout()\n",
    "#fig.savefig('recon_x')"
   ]
  },
  {
   "cell_type": "markdown",
   "metadata": {},
   "source": [
    "### Reconstruction A"
   ]
  },
  {
   "cell_type": "code",
   "execution_count": null,
   "metadata": {},
   "outputs": [],
   "source": [
    "a_recon = pa_w.loc.cpu().detach()\n",
    "a = data.adj.cpu().detach()"
   ]
  },
  {
   "cell_type": "code",
   "execution_count": null,
   "metadata": {},
   "outputs": [],
   "source": [
    "inds = random.sample(range(100), 2)\n",
    "sns.set_theme()\n",
    "sns.set_style(\"whitegrid\", {'axes.grid' : False})\n",
    "cmap = sns.color_palette(\"viridis\", as_cmap=True)\n",
    "\n",
    "fig = plt.figure(constrained_layout=True, figsize = [10,10])\n",
    "subfigs = fig.subfigures(2, 1, hspace =  0.05, wspace = 0.05)\n",
    "\n",
    "i = inds[0]\n",
    "axs0 = subfigs[0].subplots(1, 2)\n",
    "axs0[0].imshow(a[i], cmap = cmap, vmin = -0.1, vmax = 1.)\n",
    "axs0[0].set(xticklabels=[])\n",
    "axs0[0].set(yticklabels=[])\n",
    "axs0[1].imshow(a_recon[i], cmap = cmap, vmin = -0.1, vmax = 1.)\n",
    "axs0[1].set(xticklabels=[])\n",
    "axs0[1].set(yticklabels=[])\n",
    "subfigs[0].set_facecolor('0.9')\n",
    "\n",
    "i = inds[1]\n",
    "axs1 = subfigs[1].subplots(1, 2)\n",
    "im = axs1[0].imshow(a[i], cmap = cmap, vmin = -0.1, vmax = 1.)\n",
    "axs1[0].set(xticklabels=[])\n",
    "axs1[0].set(yticklabels=[])\n",
    "axs1[1].imshow(a_recon[i], cmap = cmap, vmin = -0.1, vmax = 1.)\n",
    "axs1[1].set(xticklabels=[])\n",
    "axs1[1].set(yticklabels=[])\n",
    "subfigs[1].set_facecolor('0.9')\n",
    "\n",
    "cbar_ax = fig.add_axes([1.03, 0.15, 0.05, 0.7])\n",
    "fig.colorbar(im, cax=cbar_ax).ax.tick_params(labelsize=20)\n",
    "\n",
    "plt.text(-20.1,-0.4,'Functional Connectivity', fontsize=28)\n",
    "plt.text(-8.9,-0.4,'Reconstruction', fontsize=28)\n",
    "\n",
    "#fig.savefig('recon_a_small', bbox_inches='tight')"
   ]
  },
  {
   "cell_type": "raw",
   "metadata": {},
   "source": [
    "inds = random.sample(range(100), 4)\n",
    "sns.set_theme()\n",
    "sns.set_style(\"whitegrid\", {'axes.grid' : False})\n",
    "cmap = sns.color_palette(\"viridis\", as_cmap=True)\n",
    "\n",
    "fig = plt.figure(constrained_layout=True, figsize = [20,10])\n",
    "subfigs = fig.subfigures(2, 2, wspace=0.03, hspace=0.05)\n",
    "\n",
    "i = inds[0]\n",
    "axs0 = subfigs[0,0].subplots(1, 2)\n",
    "axs0[0].imshow(a[i], cmap = cmap, vmin = -0.1, vmax = 1.)\n",
    "axs0[0].set(xticklabels=[])\n",
    "axs0[0].set(yticklabels=[])\n",
    "axs0[1].imshow(a_recon[i], cmap = cmap, vmin = -0.1, vmax = 1.)\n",
    "axs0[1].set(xticklabels=[])\n",
    "axs0[1].set(yticklabels=[])\n",
    "subfigs[0,0].set_facecolor('0.9')\n",
    "\n",
    "i = inds[1]\n",
    "axs1 = subfigs[0,1].subplots(1, 2)\n",
    "axs1[0].imshow(a[i], cmap = cmap, vmin = -0.1, vmax = 1.)\n",
    "axs1[0].set(xticklabels=[])\n",
    "axs1[0].set(yticklabels=[])\n",
    "axs1[1].imshow(a_recon[i], cmap = cmap, vmin = -0.1, vmax = 1.)\n",
    "axs1[1].set(xticklabels=[])\n",
    "axs1[1].set(yticklabels=[])\n",
    "subfigs[0,1].set_facecolor('0.9')\n",
    "\n",
    "i = inds[2]\n",
    "axs2 = subfigs[1,0].subplots(1, 2)\n",
    "axs2[0].imshow(a[i], cmap = cmap, vmin = -0.1, vmax = 1.)\n",
    "axs2[0].set(xticklabels=[])\n",
    "axs2[0].set(yticklabels=[])\n",
    "axs2[1].imshow(a_recon[i], cmap = cmap, vmin = -0.1, vmax = 1.)\n",
    "axs2[1].set(xticklabels=[])\n",
    "axs2[1].set(yticklabels=[])\n",
    "subfigs[1,0].set_facecolor('0.9')\n",
    "\n",
    "i = inds[3]\n",
    "axs3 = subfigs[1,1].subplots(1, 2)\n",
    "axs3[0].imshow(a[i], cmap = cmap, vmin = -0.1, vmax = 1.)\n",
    "axs3[0].set(xticklabels=[])\n",
    "axs3[0].set(yticklabels=[])\n",
    "axs3[1].imshow(a_recon[i], cmap = cmap, vmin = -0.1, vmax = 1.)\n",
    "axs3[1].set(xticklabels=[])\n",
    "axs3[1].set(yticklabels=[])\n",
    "subfigs[1,1].set_facecolor('0.9')\n",
    "\n",
    "#fig.savefig('recon_a')"
   ]
  },
  {
   "cell_type": "markdown",
   "metadata": {},
   "source": [
    "## Densities"
   ]
  },
  {
   "cell_type": "raw",
   "metadata": {},
   "source": [
    "import pandas as pd\n",
    "import seaborn as sns\n",
    "import matplotlib.pyplot as plt\n",
    "sns.set_theme(style=\"white\", rc={\"axes.facecolor\": (0, 0, 0, 0)})\n",
    "sns.set_context(\"paper\", rc={\"xtick.labelsize\":23,\"axes.labelsize\":32})  \n",
    "\n",
    "bs = 4\n",
    "n_samples = 1000\n",
    "# Create the data\n",
    "rs = np.random.RandomState(1979)\n",
    "x = pw_y.sample([n_samples]).flip(-1).reshape(-1).cpu().detach().numpy() #rs.randn(500)\n",
    "g = np.tile(list(\"XYABCDEFGH\")[::-1], n_samples*bs)\n",
    "df = pd.DataFrame(dict(x=x, g=g))\n",
    "m = df.g.map(ord)\n",
    "df.g = df.g.replace({'X': 'schizophrenia', 'Y': 'hallucinations'})\n",
    "\n",
    "# Initialize the FacetGrid object\n",
    "pal = sns.cubehelix_palette(10, rot=-.25, light=.7)\n",
    "g = sns.FacetGrid(df, row=\"g\", hue=\"g\", aspect=15, height=.5, palette=pal)\n",
    "\n",
    "# Draw the densities in a few steps\n",
    "g.map(sns.kdeplot, \"x\",\n",
    "      bw_adjust=.5, clip_on=False,\n",
    "      fill=True, alpha=1, linewidth=1.5)\n",
    "g.map(sns.kdeplot, \"x\", clip_on=False, color=\"w\", lw=2, bw_adjust=.5)\n",
    "\n",
    "# passing color=None to refline() uses the hue mapping\n",
    "g.refline(y=0, linewidth=2, linestyle=\"-\", color=None, clip_on=False)\n",
    "\n",
    "\n",
    "# Define and use a simple function to label the plot in axes coordinates\n",
    "def label(x, color, label):\n",
    "    ax = plt.gca()\n",
    "    ax.text(0, .4, label, fontweight=\"bold\", color=color,\n",
    "            ha=\"left\", va=\"center\", transform=ax.transAxes, fontsize = 16)\n",
    "\n",
    "\n",
    "g.map(label, \"x\")\n",
    "\n",
    "# Set the subplots to overlap\n",
    "g.figure.subplots_adjust(hspace=-.25)\n",
    "\n",
    "# Remove axes details that don't play well with overlap\n",
    "g.set_titles(\"\")\n",
    "g.set(yticks=[], ylabel=\"\")\n",
    "g.set(xlabel=\"$\\omega$\")\n",
    "g.despine(bottom=True, left=True)\n",
    "\n",
    "g.set(xlim=(-6.5, 6.5))\n",
    "\n",
    "fig = g.fig\n",
    "fig.savefig('pw_y', bbox_inches='tight')"
   ]
  },
  {
   "cell_type": "code",
   "execution_count": null,
   "metadata": {},
   "outputs": [],
   "source": [
    "bs = 4\n",
    "y = torch.tensor([[0,0], [0,1], [1,0], [1,1]]).float().cuda()\n",
    "\n",
    "locs_pwc_y, scales_pwc_y = model.cond_prior_w(y)\n",
    "prior_params_w = (torch.cat([locs_pwc_y, model.zeros_w.expand(bs, -1)], dim=-1), \n",
    "                  torch.cat([scales_pwc_y, model.ones_w.expand(bs, -1)], dim=-1))\n",
    "pw_y = dist.Normal(*prior_params_w)"
   ]
  },
  {
   "cell_type": "code",
   "execution_count": null,
   "metadata": {},
   "outputs": [],
   "source": [
    "import pandas as pd\n",
    "import seaborn as sns\n",
    "import numpy as np\n",
    "import matplotlib.pyplot as plt\n",
    "sns.set_theme(style=\"white\", rc={\"axes.facecolor\": (0, 0, 0, 0)})\n",
    "sns.set_context(\"paper\", rc={\"xtick.labelsize\":32,\"axes.labelsize\":48}) \n",
    "\n",
    "bs = 100\n",
    "n_samples = 100\n",
    "# Create the data\n",
    "rs = np.random.RandomState(1979)\n",
    "x = qw_a.sample([n_samples]).flip(-1).reshape(-1).cpu().detach().numpy() #rs.randn(500)\n",
    "y = pw_y.sample([6250*2//5]).flip(-1).reshape(-1).cpu().detach().numpy()\n",
    "g = np.tile(list(\"XYABCDEFGH\")[::-1], n_samples*bs)\n",
    "df = pd.DataFrame(dict(x=x, y=y, g=g))\n",
    "m = df.g.map(ord)\n",
    "df.g = df.g.replace({'X': 'schizophrenia', 'Y': 'hallucinations'})\n",
    "df = df[df['x'].abs() < 6]\n",
    "df = df[df['y'].abs() < 6]\n",
    "\n",
    "# Initialize the FacetGrid object\n",
    "pal = sns.cubehelix_palette(10, rot=-.25, light=.7)\n",
    "g = sns.FacetGrid(df, row=\"g\", hue=\"g\", aspect=15, height=1.5, palette=pal)\n",
    "\n",
    "# Draw the densities in a few steps\n",
    "g.map(sns.kdeplot, \"y\",\n",
    "      bw_adjust=.1, clip_on=False,\n",
    "      fill=True, alpha=.5, linewidth=1.5, color = 'r')\n",
    "g.map(sns.kdeplot, \"x\",\n",
    "      bw_adjust=.5, clip_on=False,\n",
    "      fill=True, alpha=.8, linewidth=1.5)\n",
    "g.map(sns.kdeplot, \"x\", clip_on=False, color=\"w\", lw=2, bw_adjust=.5)\n",
    "\n",
    "# passing color=None to refline() uses the hue mapping\n",
    "g.refline(y=0, linewidth=2, linestyle=\"-\", color=None, clip_on=False)\n",
    "\n",
    "\n",
    "# Define and use a simple function to label the plot in axes coordinates\n",
    "def label(x, color, label):\n",
    "    ax = plt.gca()\n",
    "    ax.text(0, .4, label, fontweight=\"bold\", color=color,\n",
    "            ha=\"left\", va=\"center\", transform=ax.transAxes, fontsize = 32)\n",
    "\n",
    "\n",
    "g.map(label, \"x\")\n",
    "\n",
    "# Set the subplots to overlap\n",
    "g.figure.subplots_adjust(hspace=-.4)\n",
    "\n",
    "# Remove axes details that don't play well with overlap\n",
    "g.set_titles(\"\")\n",
    "g.set(yticks=[], ylabel=\"\")\n",
    "g.set(xlabel=\"$\\omega$\")\n",
    "g.despine(bottom=True, left=True)\n",
    "\n",
    "g.set(xlim=(-6.5, 6.5))\n",
    "\n",
    "fig = g.fig\n",
    "fig.savefig('latent_space', bbox_inches='tight')"
   ]
  }
 ],
 "metadata": {
  "kernelspec": {
   "display_name": "geometric",
   "language": "python",
   "name": "geometric"
  },
  "language_info": {
   "codemirror_mode": {
    "name": "ipython",
    "version": 3
   },
   "file_extension": ".py",
   "mimetype": "text/x-python",
   "name": "python",
   "nbconvert_exporter": "python",
   "pygments_lexer": "ipython3",
   "version": "3.8.12"
  }
 },
 "nbformat": 4,
 "nbformat_minor": 5
}
