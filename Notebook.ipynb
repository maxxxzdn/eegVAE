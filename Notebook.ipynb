{
 "cells": [
  {
   "cell_type": "code",
   "execution_count": 1,
   "id": "b8439e0f",
   "metadata": {},
   "outputs": [],
   "source": [
    "from model import *\n",
    "from utils import * \n",
    "from optimizer import *\n",
    "import random\n",
    "from torch_geometric.datasets import TUDataset\n",
    "from torch_geometric.data import DataLoader\n",
    "import matplotlib.pyplot as plt\n",
    "import numpy as np"
   ]
  },
  {
   "cell_type": "markdown",
   "id": "1024e0cf",
   "metadata": {},
   "source": [
    "## Initialize dataset"
   ]
  },
  {
   "cell_type": "code",
   "execution_count": 2,
   "id": "f0f2a36c",
   "metadata": {},
   "outputs": [
    {
     "name": "stdout",
     "output_type": "stream",
     "text": [
      "\n",
      "Dataset: MUTAG(188):\n",
      "====================\n",
      "Number of graphs: 188\n",
      "Number of features: 7\n",
      "Number of classes: 2\n"
     ]
    }
   ],
   "source": [
    "dataset = TUDataset(root='data/TUDataset', name='MUTAG')\n",
    "\n",
    "print()\n",
    "print(f'Dataset: {dataset}:')\n",
    "print('====================')\n",
    "print(f'Number of graphs: {len(dataset)}')\n",
    "print(f'Number of features: {dataset.num_features}')\n",
    "print(f'Number of classes: {dataset.num_classes}')"
   ]
  },
  {
   "cell_type": "code",
   "execution_count": 3,
   "id": "e549ffe5",
   "metadata": {},
   "outputs": [
    {
     "name": "stdout",
     "output_type": "stream",
     "text": [
      "Max number of nodes: 28\n"
     ]
    }
   ],
   "source": [
    "max_n_nodes = get_max_n_nodes(dataset)\n",
    "print(f'Max number of nodes: {max_n_nodes}')"
   ]
  },
  {
   "cell_type": "code",
   "execution_count": 4,
   "id": "3ef7e4e6",
   "metadata": {},
   "outputs": [],
   "source": [
    "dataset = update_dataset(dataset, max_n_nodes)"
   ]
  },
  {
   "cell_type": "code",
   "execution_count": 5,
   "id": "0968b4bd",
   "metadata": {},
   "outputs": [
    {
     "name": "stdout",
     "output_type": "stream",
     "text": [
      "Number of training graphs: 150\n",
      "Number of test graphs: 38\n"
     ]
    }
   ],
   "source": [
    "torch.manual_seed(12345)\n",
    "random.shuffle(dataset)\n",
    "\n",
    "train_dataset = dataset[:150]\n",
    "test_dataset = dataset[150:]\n",
    "\n",
    "print(f'Number of training graphs: {len(train_dataset)}')\n",
    "print(f'Number of test graphs: {len(test_dataset)}')"
   ]
  },
  {
   "cell_type": "code",
   "execution_count": 6,
   "id": "ae182b64",
   "metadata": {},
   "outputs": [],
   "source": [
    "train_loader = DataLoader(train_dataset, batch_size=4, shuffle=True)\n",
    "test_loader = DataLoader(test_dataset, batch_size=4, shuffle=False)"
   ]
  },
  {
   "cell_type": "markdown",
   "id": "00e23268",
   "metadata": {},
   "source": [
    "## Initialize & train a model"
   ]
  },
  {
   "cell_type": "code",
   "execution_count": 7,
   "id": "2c497ed7",
   "metadata": {},
   "outputs": [],
   "source": [
    "n_nodes = 28\n",
    "feat_dim = 7\n",
    "hidden1 = 16\n",
    "hidden2 = 8\n",
    "dropout = 0.0\n",
    "lr = 1e-4\n",
    "epochs = 150\n",
    "log_interval = 25\n",
    "save_file = 'model'"
   ]
  },
  {
   "cell_type": "code",
   "execution_count": 8,
   "id": "e4d8b563",
   "metadata": {},
   "outputs": [],
   "source": [
    "model = GCNModelVAE(n_nodes, feat_dim, hidden1, hidden2)\n",
    "optimizer = torch.optim.Adam(model.parameters(), lr=lr)"
   ]
  },
  {
   "cell_type": "code",
   "execution_count": 9,
   "id": "f5485529",
   "metadata": {},
   "outputs": [
    {
     "name": "stderr",
     "output_type": "stream",
     "text": [
      "Training for 150 epochs: 100%|████████████████| 150/150 [00:14<00:00, 10.22it/s]"
     ]
    },
    {
     "name": "stdout",
     "output_type": "stream",
     "text": [
      "Optimization Finished!\n",
      "Best epoch: 120 , Best test set loss: 74.7897\n"
     ]
    },
    {
     "name": "stderr",
     "output_type": "stream",
     "text": [
      "\n"
     ]
    }
   ],
   "source": [
    "log = fit(model, optimizer, train_loader, test_loader, epochs, save_file)"
   ]
  },
  {
   "cell_type": "code",
   "execution_count": 10,
   "id": "ba60aeff",
   "metadata": {},
   "outputs": [
    {
     "data": {
      "image/png": "[encoded data removed]",
      "text/plain": [
       "<Figure size 432x288 with 1 Axes>"
      ]
     },
     "metadata": {
      "needs_background": "light"
     },
     "output_type": "display_data"
    }
   ],
   "source": [
    "performance_plot(log)"
   ]
  },
  {
   "cell_type": "code",
   "execution_count": null,
   "id": "8a85581e",
   "metadata": {},
   "outputs": [],
   "source": []
  }
 ],
 "metadata": {
  "kernelspec": {
   "display_name": "Python 3 (ipykernel)",
   "language": "python",
   "name": "python3"
  },
  "language_info": {
   "codemirror_mode": {
    "name": "ipython",
    "version": 3
   },
   "file_extension": ".py",
   "mimetype": "text/x-python",
   "name": "python",
   "nbconvert_exporter": "python",
   "pygments_lexer": "ipython3",
   "version": "3.9.5"
  }
 },
 "nbformat": 4,
 "nbformat_minor": 5
}
