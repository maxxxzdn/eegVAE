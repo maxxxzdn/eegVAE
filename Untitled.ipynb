{
 "cells": [
  {
   "cell_type": "code",
   "execution_count": 9,
   "id": "937b05be",
   "metadata": {},
   "outputs": [
    {
     "ename": "IndentationError",
     "evalue": "expected an indented block (model.py, line 91)",
     "output_type": "error",
     "traceback": [
      "Traceback \u001b[0;36m(most recent call last)\u001b[0m:\n",
      "  File \u001b[1;32m\"/home/maksim/.local/lib/python3.9/site-packages/IPython/core/interactiveshell.py\"\u001b[0m, line \u001b[1;32m3441\u001b[0m, in \u001b[1;35mrun_code\u001b[0m\n    exec(code_obj, self.user_global_ns, self.user_ns)\n",
      "\u001b[0;36m  File \u001b[0;32m\"/tmp/ipykernel_25687/1477584102.py\"\u001b[0;36m, line \u001b[0;32m1\u001b[0;36m, in \u001b[0;35m<module>\u001b[0;36m\u001b[0m\n\u001b[0;31m    from model import *\u001b[0m\n",
      "\u001b[0;36m  File \u001b[0;32m\"/home/maksim/eegVAE/model.py\"\u001b[0;36m, line \u001b[0;32m91\u001b[0m\n\u001b[0;31m    l1_loss = F.l1_loss(z, torch.zeros_like(z), reduction = 'sum')\u001b[0m\n\u001b[0m    ^\u001b[0m\n\u001b[0;31mIndentationError\u001b[0m\u001b[0;31m:\u001b[0m expected an indented block\n"
     ]
    }
   ],
   "source": [
    "from model import *\n",
    "from utils import * \n",
    "from optimizer import *\n",
    "from visualize import *\n",
    "from meta import *\n",
    "import random\n",
    "from torch_geometric.datasets import TUDataset\n",
    "from torch_geometric.data import DataLoader\n",
    "import matplotlib.pyplot as plt\n",
    "from sklearn.metrics.pairwise import cosine_similarity\n",
    "from sklearn.metrics import normalized_mutual_info_score as mis\n",
    "import numpy as np"
   ]
  },
  {
   "cell_type": "code",
   "execution_count": null,
   "id": "c095d4a8",
   "metadata": {},
   "outputs": [],
   "source": [
    "class Normal():\n",
    "    def __init__(self, mu, var):\n",
    "        self.mu = mu\n",
    "        self.var = var\n",
    "        self.family = 'Normal'\n",
    "        \n",
    "class Laplace():\n",
    "    def __init__(self, mu, b):\n",
    "        self.mu = mu\n",
    "        self.b = b\n",
    "        self.family = 'Laplace'"
   ]
  },
  {
   "cell_type": "code",
   "execution_count": null,
   "id": "b97dabd9",
   "metadata": {},
   "outputs": [],
   "source": [
    "class Encoder(nn.Module):\n",
    "    def __init__(self, n_nodes, input_dim, hidden_dim, latent_dim):\n",
    "        super(Encoder, self).__init__()\n",
    "        self.latent_dim = latent_dim\n",
    "        self.gc1 = gnn.GraphConv(input_dim, hidden_dim)\n",
    "        self.gc2 = gnn.GraphConv(hidden_dim, hidden_dim)\n",
    "        self.mu = nn.Linear(n_nodes*hidden_dim, latent_dim)\n",
    "        self.logvar = nn.Linear(n_nodes*hidden_dim, latent_dim)\n",
    "        \n",
    "    def __call__(self, x, edge_index, batch):\n",
    "        bs = max(batch) + 1\n",
    "        hidden1 = F.relu(F.dropout(self.gc1(x, edge_index), self.dropout))\n",
    "        hidden2 = F.relu(F.dropout(self.gc2(hidden1, edge_index), self.dropout))\n",
    "        mu = self.mu(hidden2.view(bs, -1))\n",
    "        logvar = self.logvar(hidden2.view(bs, -1))\n",
    "        return mu.squeeze(), logvar.squeeze()\n",
    "    \n",
    "class Decoder(nn.Module):\n",
    "    def __init__(self, n_Nodes, latent_dim, hidden_dim, output_dim):\n",
    "        super(Decoder, self).__init__()\n",
    "        self.fc1 = nn.Linear(latent_dim, hidden_dim)\n",
    "        self.fc2 = nn.Linear(hidden_dim, (n_nodes*n_nodes - n_nodes)//2)\n",
    "        \n",
    "    def __call__(self, z):\n",
    "        h = F.relu(F.dropout(self.fc1(z), self.dropout))\n",
    "        return torch.sigmoid(self.fc2(h))"
   ]
  },
  {
   "cell_type": "code",
   "execution_count": null,
   "id": "3f35891b",
   "metadata": {},
   "outputs": [],
   "source": [
    "class conv_mlp_VAE(nn.Module):\n",
    "    def __init__(self, encoder, decoder, prior, posterior, KLD, beta, gamma):\n",
    "        super(conv_mlp_VAE, self).__init__()\n",
    "        self.n_nodes = n_nodes\n",
    "        self.type = 'conv_mlp'\n",
    "        self.beta = beta\n",
    "        self.gamma = gamma\n",
    "        self.dropout = dropout\n",
    "        self.encoder = encoder\n",
    "        self.decoder = decoder\n",
    "        self.prior = prior\n",
    "        self.posterior = posterior\n",
    "        self.KLD = KLD(prior, posterior)\n",
    "        self.latent_dim = encoder.latent_dim\n",
    "        \n",
    "    def encode(self, x, edge_index, batch):\n",
    "        return self.encoder(x, edge_index, batch)\n",
    "    \n",
    "    def decode(self, z):\n",
    "        return self.decoder(z)\n",
    "\n",
    "    def reparameterize(self, mu, logvar):\n",
    "        std = torch.exp(0.5*logvar)\n",
    "        eps = torch.randn_like(std)\n",
    "        return mu + eps*std\n",
    "        \n",
    "    def forward(self, x, edge_index, batch):\n",
    "        mu, logvar = self.encode(x, edge_index, batch)\n",
    "        z = self.reparameterize(mu, logvar)\n",
    "        return self.decode(z), mu, logvar, z\n",
    "    \n",
    "    def loss_function(self, preds, labels, parameter1, parameter2, z):\n",
    "        BCE = F.binary_cross_entropy(preds, labels, reduction='sum')\n",
    "        KLD = self.KLD(parameter1, parameter2)\n",
    "        l1_loss = F.l1_loss(z, torch.zeros_like(z), reduction = 'sum')\n",
    "        return BCE - self.beta*KLD + self.gamma*l1_loss, BCE, KLD, l1_loss\n",
    "    \n",
    "def KLD(p, q):\n",
    "    if p == q == 'Normal':\n",
    "        return lambda mu, logvar: 0.5 * (1 + logvar - mu.pow(2) - logvar.exp()).sum()\n",
    "    elif p == q == 'Laplace':\n",
    "        return lambda mu, b: ((-mu.abs()/b).exp() + mu.abs()/b + torch.log(p.b) - torch.log(b) - 1).sum()"
   ]
  },
  {
   "cell_type": "code",
   "execution_count": null,
   "id": "084e61de",
   "metadata": {},
   "outputs": [],
   "source": []
  },
  {
   "cell_type": "code",
   "execution_count": 1,
   "id": "8fbd0300",
   "metadata": {},
   "outputs": [],
   "source": [
    "def KLD(p,q):\n",
    "    return lambda x: x"
   ]
  },
  {
   "cell_type": "code",
   "execution_count": 5,
   "id": "06561d91",
   "metadata": {},
   "outputs": [],
   "source": [
    "a = 1\n",
    "b = 1\n"
   ]
  },
  {
   "cell_type": "code",
   "execution_count": 11,
   "id": "59d7d1e3",
   "metadata": {},
   "outputs": [],
   "source": [
    "import torch"
   ]
  },
  {
   "cell_type": "code",
   "execution_count": 12,
   "id": "58adee80",
   "metadata": {},
   "outputs": [],
   "source": [
    "mu = torch.tensor([2,2])"
   ]
  },
  {
   "cell_type": "code",
   "execution_count": 13,
   "id": "1903c244",
   "metadata": {},
   "outputs": [
    {
     "data": {
      "text/plain": [
       "tensor([2, 2])"
      ]
     },
     "execution_count": 13,
     "metadata": {},
     "output_type": "execute_result"
    }
   ],
   "source": [
    "mu.abs()"
   ]
  },
  {
   "cell_type": "code",
   "execution_count": 7,
   "id": "64cc9cc1",
   "metadata": {},
   "outputs": [
    {
     "data": {
      "text/plain": [
       "False"
      ]
     },
     "execution_count": 7,
     "metadata": {},
     "output_type": "execute_result"
    }
   ],
   "source": [
    "a == b == 2"
   ]
  },
  {
   "cell_type": "code",
   "execution_count": 372,
   "id": "7d2dd3dc",
   "metadata": {},
   "outputs": [],
   "source": [
    "parameters = {'n_nodes' : 30, 'noise_mu' : 0.5, 'len_sig' : 100, 'phase_mu' : np.pi/10, 'n_active_nodes' : 6}"
   ]
  },
  {
   "cell_type": "code",
   "execution_count": 378,
   "id": "066a64cf",
   "metadata": {},
   "outputs": [],
   "source": [
    "class CorrData():\n",
    "    def __init__(self, parameters, active_nodes):\n",
    "        self.n_nodes = parameters['n_nodes']\n",
    "        self.noise_mu = parameters['noise_mu']\n",
    "        self.len_sig = parameters['len_sig']\n",
    "        self.phase_mu = parameters['phase_mu']\n",
    "        if active_nodes is not None:\n",
    "            self.active_nodes = random.sample(active_nodes, parameters['n_active_nodes'])\n",
    "        else:\n",
    "            self.active_nodes = list(range(self.n_nodes))\n",
    "        self.x = self.create_data()\n",
    "        self.adj = self.get_adj(self.x)\n",
    "        self.edge_index = dense_to_sparse(self.adj)[0]\n",
    "        self.y = 0\n",
    "   \n",
    "    def add_sin(self, x):\n",
    "        phase = self.phase_mu*np.random.randn(1)\n",
    "        o = np.arange(-3*np.pi, 3*np.pi, 6*np.pi/self.len_sig)\n",
    "        return np.sin(1*o + phase)\n",
    "    \n",
    "    def create_data(self):\n",
    "        noise = self.noise_mu*np.random.randn(self.n_nodes, self.len_sig)\n",
    "        sins = np.zeros_like(noise)\n",
    "        ind = self.active_nodes\n",
    "        sins[ind] = np.apply_along_axis(add_sin, -1, sins[ind]) \n",
    "        return noise + sins\n",
    "    \n",
    "    def get_adj(self, x):\n",
    "        adj = (np.abs(np.corrcoef(x)) > 0.5)*1.0\n",
    "        return torch.tensor(adj).long()"
   ]
  },
  {
   "cell_type": "code",
   "execution_count": 379,
   "id": "5377f615",
   "metadata": {},
   "outputs": [],
   "source": [
    "class CorrDataset():\n",
    "    def __init__(self, parameters, active_nodes, n_graphs):\n",
    "        self.parameters = parameters\n",
    "        self.active_nodes = active_nodes\n",
    "        self.n_graphs = n_graphs\n",
    "        self.dataset = self.make_dataset()\n",
    "        \n",
    "    def make_dataset(self):\n",
    "        dataset = []\n",
    "        for _ in range(0, self.n_graphs//2):\n",
    "            data = CorrData(self.parameters, self.active_nodes)\n",
    "            data.y = 0\n",
    "            dataset.append(self.data_to_Data(data))\n",
    "        for _ in range(self.n_graphs//2, self.n_graphs):\n",
    "            data = CorrData(self.parameters, None)\n",
    "            data.y = 1\n",
    "            dataset.append(self.data_to_Data(data))\n",
    "        random.shuffle(dataset)\n",
    "        return dataset\n",
    "    \n",
    "    def data_to_Data(self, data):\n",
    "        x = torch.tensor(data.x)\n",
    "        adj = data.adj\n",
    "        edge_index = data.edge_index\n",
    "        y = torch.tensor(data.y).long()\n",
    "        return Data(x = x, adj = adj, edge_index = edge_index, y = y)"
   ]
  },
  {
   "cell_type": "code",
   "execution_count": 380,
   "id": "8d3b8600",
   "metadata": {},
   "outputs": [],
   "source": [
    "dataset = CorrDataset(parameters, active_nodes, 10)"
   ]
  },
  {
   "cell_type": "code",
   "execution_count": 388,
   "id": "a1c2e7ef",
   "metadata": {},
   "outputs": [
    {
     "data": {
      "text/plain": [
       "Data(adj=[30, 30], edge_index=[2, 748], x=[30, 100], y=1)"
      ]
     },
     "execution_count": 388,
     "metadata": {},
     "output_type": "execute_result"
    }
   ],
   "source": [
    "dataset.dataset[2]"
   ]
  },
  {
   "cell_type": "code",
   "execution_count": 389,
   "id": "e762f1bb",
   "metadata": {},
   "outputs": [
    {
     "data": {
      "text/plain": [
       "<matplotlib.image.AxesImage at 0x7ff51575e760>"
      ]
     },
     "execution_count": 389,
     "metadata": {},
     "output_type": "execute_result"
    },
    {
     "data": {
      "image/png": "[encoded data removed]",
      "text/plain": [
       "<Figure size 432x288 with 1 Axes>"
      ]
     },
     "metadata": {
      "needs_background": "light"
     },
     "output_type": "display_data"
    }
   ],
   "source": [
    "plt.imshow(dataset.dataset[2].adj)"
   ]
  },
  {
   "cell_type": "code",
   "execution_count": 329,
   "id": "4e88320b",
   "metadata": {},
   "outputs": [],
   "source": [
    "active_nodes = [1,2,3,4,14,15,16,27,28,29]"
   ]
  },
  {
   "cell_type": "code",
   "execution_count": 357,
   "id": "3dbc7f29",
   "metadata": {},
   "outputs": [
    {
     "data": {
      "text/plain": [
       "Data(x=[[ 0.46871239 -0.47403138 -1.23005848 ...  0.35351545  0.1424109\n",
       "  -0.72867947]\n",
       " [-0.16220175 -1.28086314  0.21481009 ...  1.62379273  0.15766275\n",
       "  -0.07428125]\n",
       " [ 0.57411339 -0.79884178  0.32807949 ... -0.23403614  0.48013671\n",
       "  -0.23464865]\n",
       " ...\n",
       " [-0.51572829 -0.50169913 -0.77291507 ...  1.00859867  0.68449753\n",
       "   0.55442418]\n",
       " [ 0.02272754  0.10993457  0.60742263 ...  0.19357438  0.32098978\n",
       "  -1.0059353 ]\n",
       " [ 0.87129936  0.9385024  -0.2872026  ... -0.05289438  0.93519742\n",
       "   0.31011746]])"
      ]
     },
     "execution_count": 357,
     "metadata": {},
     "output_type": "execute_result"
    }
   ],
   "source": [
    "Data(x = data.x)"
   ]
  },
  {
   "cell_type": "code",
   "execution_count": 309,
   "id": "368dbbc8",
   "metadata": {},
   "outputs": [],
   "source": [
    "choice = lambda x: random.choice(x)"
   ]
  },
  {
   "cell_type": "code",
   "execution_count": 318,
   "id": "3377b1be",
   "metadata": {},
   "outputs": [
    {
     "data": {
      "text/plain": [
       "[2, 14, 29]"
      ]
     },
     "execution_count": 318,
     "metadata": {},
     "output_type": "execute_result"
    }
   ],
   "source": [
    "list(map(choice, active_nodes))"
   ]
  },
  {
   "cell_type": "code",
   "execution_count": 338,
   "id": "197f5f6d",
   "metadata": {},
   "outputs": [],
   "source": [
    "data = CorrData(parameters, active_nodes)"
   ]
  },
  {
   "cell_type": "code",
   "execution_count": 339,
   "id": "1ac72369",
   "metadata": {},
   "outputs": [
    {
     "data": {
      "text/plain": [
       "<matplotlib.image.AxesImage at 0x7ff515ad9b20>"
      ]
     },
     "execution_count": 339,
     "metadata": {},
     "output_type": "execute_result"
    },
    {
     "data": {
      "image/png": "[encoded data removed]",
      "text/plain": [
       "<Figure size 432x288 with 1 Axes>"
      ]
     },
     "metadata": {
      "needs_background": "light"
     },
     "output_type": "display_data"
    }
   ],
   "source": [
    "plt.imshow(data.adj)"
   ]
  },
  {
   "cell_type": "code",
   "execution_count": 266,
   "id": "58bbd213",
   "metadata": {},
   "outputs": [],
   "source": [
    "N = 30"
   ]
  },
  {
   "cell_type": "code",
   "execution_count": 267,
   "id": "1451a4a3",
   "metadata": {},
   "outputs": [],
   "source": [
    "x = 0.5*np.random.randn(N,100)"
   ]
  },
  {
   "cell_type": "code",
   "execution_count": 268,
   "id": "f3d6bb6f",
   "metadata": {},
   "outputs": [],
   "source": [
    "y = np.zeros_like(x)"
   ]
  },
  {
   "cell_type": "code",
   "execution_count": 269,
   "id": "71466131",
   "metadata": {},
   "outputs": [],
   "source": [
    "def add_sin(x):\n",
    "    phase = np.pi/10*np.random.randn(1)\n",
    "    o = np.arange(-3*np.pi, 3*np.pi, 6*np.pi/x.shape[-1])\n",
    "    return np.sin(1*o + phase)"
   ]
  },
  {
   "cell_type": "code",
   "execution_count": 270,
   "id": "43d7dca8",
   "metadata": {},
   "outputs": [],
   "source": [
    "ind = np.random.randint(0, N, N//6)"
   ]
  },
  {
   "cell_type": "code",
   "execution_count": 271,
   "id": "6af07b9a",
   "metadata": {},
   "outputs": [],
   "source": [
    "y[ind] = np.apply_along_axis(add_sin, -1, y[ind]) "
   ]
  },
  {
   "cell_type": "code",
   "execution_count": 272,
   "id": "29fff927",
   "metadata": {},
   "outputs": [],
   "source": [
    "x += y"
   ]
  },
  {
   "cell_type": "code",
   "execution_count": 273,
   "id": "9d8caa8f",
   "metadata": {},
   "outputs": [
    {
     "data": {
      "text/plain": [
       "array([28,  4,  4, 28,  3])"
      ]
     },
     "execution_count": 273,
     "metadata": {},
     "output_type": "execute_result"
    }
   ],
   "source": [
    "ind"
   ]
  },
  {
   "cell_type": "code",
   "execution_count": 274,
   "id": "214af0c2",
   "metadata": {},
   "outputs": [
    {
     "data": {
      "text/plain": [
       "[<matplotlib.lines.Line2D at 0x7ff516559e80>]"
      ]
     },
     "execution_count": 274,
     "metadata": {},
     "output_type": "execute_result"
    },
    {
     "data": {
      "image/png": "[encoded data removed]",
      "text/plain": [
       "<Figure size 432x288 with 1 Axes>"
      ]
     },
     "metadata": {
      "needs_background": "light"
     },
     "output_type": "display_data"
    }
   ],
   "source": [
    "plt.plot(x[0])"
   ]
  },
  {
   "cell_type": "code",
   "execution_count": 275,
   "id": "edeb3889",
   "metadata": {},
   "outputs": [
    {
     "data": {
      "text/plain": [
       "array([[ 1.        , -0.02599554],\n",
       "       [-0.02599554,  1.        ]])"
      ]
     },
     "execution_count": 275,
     "metadata": {},
     "output_type": "execute_result"
    }
   ],
   "source": [
    "np.corrcoef(x[1],x[0])"
   ]
  },
  {
   "cell_type": "code",
   "execution_count": 276,
   "id": "8c8f0db5",
   "metadata": {},
   "outputs": [
    {
     "data": {
      "text/plain": [
       "0.0"
      ]
     },
     "execution_count": 276,
     "metadata": {},
     "output_type": "execute_result"
    }
   ],
   "source": [
    "adj[0,1]"
   ]
  },
  {
   "cell_type": "code",
   "execution_count": 277,
   "id": "c3b2bdab",
   "metadata": {},
   "outputs": [],
   "source": [
    "from torch_geometric.utils import *"
   ]
  },
  {
   "cell_type": "code",
   "execution_count": 278,
   "id": "6d921c28",
   "metadata": {},
   "outputs": [],
   "source": [
    "adj = (np.abs(np.corrcoef(x)) > 0.5)*1.0"
   ]
  },
  {
   "cell_type": "code",
   "execution_count": 279,
   "id": "254016e4",
   "metadata": {},
   "outputs": [
    {
     "data": {
      "text/plain": [
       "(tensor([[ 3,  3,  4,  4, 28, 28],\n",
       "         [ 4, 28,  3, 28,  3,  4]]),\n",
       " None)"
      ]
     },
     "execution_count": 279,
     "metadata": {},
     "output_type": "execute_result"
    }
   ],
   "source": [
    "remove_self_loops(dense_to_sparse(torch.tensor(adj))[0])"
   ]
  },
  {
   "cell_type": "code",
   "execution_count": null,
   "id": "6fbcf586",
   "metadata": {},
   "outputs": [],
   "source": []
  },
  {
   "cell_type": "code",
   "execution_count": null,
   "id": "a5777b94",
   "metadata": {},
   "outputs": [],
   "source": []
  },
  {
   "cell_type": "code",
   "execution_count": 245,
   "id": "c78e3f47",
   "metadata": {},
   "outputs": [
    {
     "data": {
      "text/plain": [
       "<matplotlib.image.AxesImage at 0x7ff5165db5e0>"
      ]
     },
     "execution_count": 245,
     "metadata": {},
     "output_type": "execute_result"
    },
    {
     "data": {
      "image/png": "[encoded data removed]",
      "text/plain": [
       "<Figure size 432x288 with 1 Axes>"
      ]
     },
     "metadata": {
      "needs_background": "light"
     },
     "output_type": "display_data"
    }
   ],
   "source": [
    "plt.imshow((np.abs(np.corrcoef(x)) > 0.5)*1.0)"
   ]
  },
  {
   "cell_type": "code",
   "execution_count": 28,
   "id": "39a84fad",
   "metadata": {},
   "outputs": [
    {
     "name": "stdout",
     "output_type": "stream",
     "text": [
      "\n",
      "Dataset: MUTAG(188):\n",
      "====================\n",
      "Number of graphs: 188\n",
      "Number of features: 7\n",
      "Number of classes: 2\n"
     ]
    }
   ],
   "source": [
    "dataset = TUDataset(root='data/TUDataset', name=data_name)\n",
    "\n",
    "print()\n",
    "print(f'Dataset: {dataset}:')\n",
    "print('====================')\n",
    "print(f'Number of graphs: {len(dataset)}')\n",
    "print(f'Number of features: {dataset.num_features}')\n",
    "print(f'Number of classes: {dataset.num_classes}')"
   ]
  },
  {
   "cell_type": "code",
   "execution_count": 29,
   "id": "99be446e",
   "metadata": {},
   "outputs": [],
   "source": [
    "dataset = [data for data in dataset if data.x.shape[0] < 30]"
   ]
  },
  {
   "cell_type": "code",
   "execution_count": 30,
   "id": "ca4c7ee7",
   "metadata": {},
   "outputs": [
    {
     "name": "stdout",
     "output_type": "stream",
     "text": [
      "Max number of nodes: 28\n"
     ]
    }
   ],
   "source": [
    "max_n_nodes = get_max_n_nodes(dataset)\n",
    "print(f'Max number of nodes: {max_n_nodes}')"
   ]
  },
  {
   "cell_type": "code",
   "execution_count": 31,
   "id": "0d6d294c",
   "metadata": {},
   "outputs": [],
   "source": [
    "dataset = update_dataset(dataset, max_n_nodes, 2)"
   ]
  },
  {
   "cell_type": "code",
   "execution_count": 41,
   "id": "e3358e42",
   "metadata": {},
   "outputs": [],
   "source": [
    "def add_edge(edge_index, i, j):\n",
    "    to = torch.tensor([i,j])\n",
    "    out = torch.tensor([j,i])\n",
    "    edge_index = torch.cat([edge_index, to.unsqueeze(1)], 1)\n",
    "    edge_index = torch.cat([edge_index, out.unsqueeze(1)], 1)\n",
    "    return edge_index\n",
    "\n",
    "def add_edge_noise(dataset, n, m):\n",
    "    for _ in range(n):\n",
    "        data = random.choice(dataset)\n",
    "        for i in range(m):\n",
    "            not_added = True\n",
    "            while not_added:\n",
    "                k = random.randint(0, data.edge_index.max())\n",
    "                j = random.randint(0, data.edge_index.max())\n",
    "                if not in_adjacency(data.edge_index, [k, j]):\n",
    "                    data.edge_index = add_edge(data.edge_index, k, j)\n",
    "                    not_added = False\n",
    "        dataset.append(data)\n",
    "    return dataset\n",
    "\n",
    "def in_adjacency(edge_index, edge):\n",
    "    to = edge[0]\n",
    "    out = edge[1]\n",
    "    intsec = np.intersect1d(np.where(edge_index[0] == to), np.where(edge_index[1] == out))\n",
    "    return len(intsec)"
   ]
  },
  {
   "cell_type": "code",
   "execution_count": 50,
   "id": "112fc7d5",
   "metadata": {},
   "outputs": [
    {
     "data": {
      "text/plain": [
       "258"
      ]
     },
     "execution_count": 50,
     "metadata": {},
     "output_type": "execute_result"
    }
   ],
   "source": [
    "len(add_edge_noise(dataset, 10, 10))"
   ]
  },
  {
   "cell_type": "code",
   "execution_count": 35,
   "id": "7398731d",
   "metadata": {},
   "outputs": [
    {
     "data": {
      "text/plain": [
       "tensor([[ 0,  0,  1,  1,  2,  2,  3,  3,  3,  4,  4,  4,  5,  5,  6,  6,  7,  7,\n",
       "          8,  8,  8,  9,  9,  9, 10, 10, 11, 11, 12, 12, 12, 13, 13, 14, 14, 14,\n",
       "         15, 16,  0,  1,  2,  3,  4,  5,  6,  7,  8,  9, 10, 11, 12, 13, 14, 15,\n",
       "         16, 17, 18, 19, 20, 21, 22, 23, 24, 25, 26, 27,  9, 15, 22,  9, 19, 14,\n",
       "          2, 19, 10,  7,  4, 25, 20,  1, 18,  3,  6, 11,  1, 25],\n",
       "        [ 1,  5,  0,  2,  1,  3,  2,  4,  9,  3,  5,  6,  0,  4,  4,  7,  6,  8,\n",
       "          7,  9, 13,  3,  8, 10,  9, 11, 10, 12, 11, 13, 14,  8, 12, 12, 15, 16,\n",
       "         14, 14,  0,  1,  2,  3,  4,  5,  6,  7,  8,  9, 10, 11, 12, 13, 14, 15,\n",
       "         16, 17, 18, 19, 20, 21, 22, 23, 24, 25, 26, 27, 15,  9,  9, 22, 14, 19,\n",
       "         19,  2,  7, 10, 25,  4,  1, 20,  3, 18, 11,  6, 25,  1]])"
      ]
     },
     "execution_count": 35,
     "metadata": {},
     "output_type": "execute_result"
    }
   ],
   "source": [
    "dataset[0].edge_index"
   ]
  },
  {
   "cell_type": "code",
   "execution_count": 37,
   "id": "54daed20",
   "metadata": {},
   "outputs": [
    {
     "data": {
      "text/plain": [
       "Data(adj=[1, 28, 28], edge_attr=[66, 4], edge_index=[2, 86], edge_index_=[2, 86], u=[1, 2], x=[28, 7], y=[1])"
      ]
     },
     "execution_count": 37,
     "metadata": {},
     "output_type": "execute_result"
    }
   ],
   "source": [
    "add_edge_noise(dataset, 0)[0]"
   ]
  },
  {
   "cell_type": "code",
   "execution_count": 34,
   "id": "ab92c7dc",
   "metadata": {},
   "outputs": [
    {
     "data": {
      "text/plain": [
       "Data(adj=[1, 28, 28], edge_attr=[66, 4], edge_index=[2, 86], u=[1, 2], x=[28, 7], y=[1])"
      ]
     },
     "execution_count": 34,
     "metadata": {},
     "output_type": "execute_result"
    }
   ],
   "source": [
    "add_edge_noise(dataset, 10)[0].edge_i"
   ]
  },
  {
   "cell_type": "code",
   "execution_count": 74,
   "id": "1a91d9bb",
   "metadata": {},
   "outputs": [
    {
     "data": {
      "text/plain": [
       "array([], dtype=int64)"
      ]
     },
     "execution_count": 74,
     "metadata": {},
     "output_type": "execute_result"
    }
   ],
   "source": [
    "np.intersect1d(np.where(dataset[0].edge_index[0] == 0), np.where(dataset[0].edge_index[0] == 1))"
   ]
  },
  {
   "cell_type": "code",
   "execution_count": 75,
   "id": "07143428",
   "metadata": {},
   "outputs": [
    {
     "data": {
      "text/plain": [
       "(array([ 0,  1, 38]),)"
      ]
     },
     "execution_count": 75,
     "metadata": {},
     "output_type": "execute_result"
    }
   ],
   "source": [
    "np.where(dataset[0].edge_index[0] == 0)"
   ]
  },
  {
   "cell_type": "code",
   "execution_count": 64,
   "id": "534f9c53",
   "metadata": {},
   "outputs": [
    {
     "data": {
      "text/plain": [
       "tensor([ 3, 11])"
      ]
     },
     "execution_count": 64,
     "metadata": {},
     "output_type": "execute_result"
    }
   ],
   "source": [
    "to"
   ]
  },
  {
   "cell_type": "code",
   "execution_count": 46,
   "id": "c2cd9d57",
   "metadata": {},
   "outputs": [
    {
     "data": {
      "text/plain": [
       "(tensor([ 0,  4, 39]),)"
      ]
     },
     "execution_count": 46,
     "metadata": {},
     "output_type": "execute_result"
    }
   ],
   "source": [
    "torch.where(dataset[0].edge_index[1] == 1)[0]"
   ]
  },
  {
   "cell_type": "code",
   "execution_count": 49,
   "id": "015db1d2",
   "metadata": {},
   "outputs": [
    {
     "data": {
      "text/plain": [
       "tensor(1)"
      ]
     },
     "execution_count": 49,
     "metadata": {},
     "output_type": "execute_result"
    }
   ],
   "source": [
    "(torch.where(dataset[0].edge_index[0] == 0)[0] == torch.where(dataset[0].edge_index[1] == 1)[0]).sum()"
   ]
  },
  {
   "cell_type": "code",
   "execution_count": 40,
   "id": "043d83b3",
   "metadata": {},
   "outputs": [],
   "source": [
    "dataset = add_edge_noise(dataset, 1)"
   ]
  },
  {
   "cell_type": "code",
   "execution_count": 35,
   "id": "5831e257",
   "metadata": {},
   "outputs": [],
   "source": [
    "i = random.randint(0,dataset[0].edge_index.max())\n",
    "j = random.randint(0,dataset[0].edge_index.max())\n",
    "\n",
    "to = torch.tensor([i,j])\n",
    "out = torch.tensor([j,i])\n",
    "\n",
    "dataset[0].edge_index = torch.cat([dataset[0].edge_index, to.unsqueeze(1)], 1)\n",
    "dataset[0].edge_index = torch.cat([dataset[0].edge_index, out.unsqueeze(1)], 1)"
   ]
  },
  {
   "cell_type": "code",
   "execution_count": 36,
   "id": "c4b2a954",
   "metadata": {},
   "outputs": [
    {
     "data": {
      "text/plain": [
       "tensor([[ 0,  0,  1,  1,  2,  2,  3,  3,  3,  4,  4,  4,  5,  5,  6,  6,  7,  7,\n",
       "          8,  8,  8,  9,  9,  9, 10, 10, 11, 11, 12, 12, 12, 13, 13, 14, 14, 14,\n",
       "         15, 16,  0,  1,  2,  3,  4,  5,  6,  7,  8,  9, 10, 11, 12, 13, 14, 15,\n",
       "         16, 17, 18, 19, 20, 21, 22, 23, 24, 25, 26, 27,  3, 11],\n",
       "        [ 1,  5,  0,  2,  1,  3,  2,  4,  9,  3,  5,  6,  0,  4,  4,  7,  6,  8,\n",
       "          7,  9, 13,  3,  8, 10,  9, 11, 10, 12, 11, 13, 14,  8, 12, 12, 15, 16,\n",
       "         14, 14,  0,  1,  2,  3,  4,  5,  6,  7,  8,  9, 10, 11, 12, 13, 14, 15,\n",
       "         16, 17, 18, 19, 20, 21, 22, 23, 24, 25, 26, 27, 11,  3]])"
      ]
     },
     "execution_count": 36,
     "metadata": {},
     "output_type": "execute_result"
    }
   ],
   "source": [
    "dataset[0].edge_index"
   ]
  },
  {
   "cell_type": "code",
   "execution_count": 32,
   "id": "05ec2417",
   "metadata": {},
   "outputs": [
    {
     "data": {
      "text/plain": [
       "tensor([[25, 11]])"
      ]
     },
     "execution_count": 32,
     "metadata": {},
     "output_type": "execute_result"
    }
   ],
   "source": [
    "to.unsqueeze(0)"
   ]
  },
  {
   "cell_type": "code",
   "execution_count": null,
   "id": "367abf58",
   "metadata": {},
   "outputs": [],
   "source": []
  },
  {
   "cell_type": "code",
   "execution_count": null,
   "id": "15ed2745",
   "metadata": {},
   "outputs": [],
   "source": [
    "torch.manual_seed(12345)\n",
    "random.shuffle(dataset)\n",
    "\n",
    "train_dataset = dataset[:3*len(dataset)//4]\n",
    "test_dataset = dataset[3*len(dataset)//4:]\n",
    "\n",
    "print(f'Number of training graphs: {len(train_dataset)}')\n",
    "print(f'Number of test graphs: {len(test_dataset)}')"
   ]
  },
  {
   "cell_type": "code",
   "execution_count": null,
   "id": "207fb1d1",
   "metadata": {},
   "outputs": [],
   "source": [
    "train_loader = DataLoader(train_dataset, batch_size=16, shuffle=True)\n",
    "test_loader = DataLoader(test_dataset, batch_size=16, shuffle=False)"
   ]
  },
  {
   "cell_type": "code",
   "execution_count": null,
   "id": "d8fd923c",
   "metadata": {},
   "outputs": [],
   "source": [
    "print('Example of a graph in the dataset:')\n",
    "visualize_adj_graph(dataset[0].adj.squeeze())"
   ]
  },
  {
   "cell_type": "code",
   "execution_count": null,
   "id": "63b02ba5",
   "metadata": {},
   "outputs": [],
   "source": []
  }
 ],
 "metadata": {
  "kernelspec": {
   "display_name": "Python 3 (ipykernel)",
   "language": "python",
   "name": "python3"
  },
  "language_info": {
   "codemirror_mode": {
    "name": "ipython",
    "version": 3
   },
   "file_extension": ".py",
   "mimetype": "text/x-python",
   "name": "python",
   "nbconvert_exporter": "python",
   "pygments_lexer": "ipython3",
   "version": "3.9.5"
  }
 },
 "nbformat": 4,
 "nbformat_minor": 5
}
